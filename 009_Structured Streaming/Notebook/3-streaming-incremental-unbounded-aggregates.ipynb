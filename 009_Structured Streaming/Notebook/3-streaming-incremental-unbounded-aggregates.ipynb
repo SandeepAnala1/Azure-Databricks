{
 "cells": [
  {
   "cell_type": "code",
   "execution_count": 0,
   "metadata": {
    "application/vnd.databricks.v1+cell": {
     "cellMetadata": {
      "byteLimit": 2048000,
      "rowLimit": 10000
     },
     "inputWidgets": {},
     "nuid": "ea3eb7a8-4632-4f95-b01d-aa3cbf08b6cb",
     "showTitle": false,
     "title": ""
    }
   },
   "outputs": [],
   "source": [
    "base_data_dir=\"/mnt/devdbbatch1sa/raw\"\n",
    "check_point_dir=\"/mnt/devdbbatch1sa/checkpoint\""
   ]
  },
  {
   "cell_type": "code",
   "execution_count": 0,
   "metadata": {
    "application/vnd.databricks.v1+cell": {
     "cellMetadata": {
      "byteLimit": 2048000,
      "rowLimit": 10000
     },
     "inputWidgets": {},
     "nuid": "13a6e4a1-1500-469d-bee7-2335b18daf08",
     "showTitle": false,
     "title": ""
    }
   },
   "outputs": [],
   "source": [
    "def readBronze():\n",
    "    return spark.readStream.table(\"invoices_bz\")\n",
    "\n",
    "def getAggregates(invoices_df):\n",
    "    from pyspark.sql.functions import sum, expr\n",
    "\n",
    "    return invoices_df.groupBy(\"CustomerCardNo\").agg(\n",
    "        sum(\"TotalAmount\").alias(\"TotalAmount\"),\n",
    "        sum(expr(\"TotalAmount*0.02\")).alias(\"TotalPoints\"),\n",
    "    )\n",
    "\n",
    "def aggregate_upsert(invoices_df, batch_id):\n",
    "    rewards_df = getAggregates(invoices_df)\n",
    "    rewards_df.createOrReplaceTempView(\"customer_rewards_df_temp_view\")\n",
    "    merge_statement = \"\"\"MERGE INTO customer_rewards8 t\n",
    "                USING customer_rewards_df_temp_view s\n",
    "                ON s. == t.CustomerCardNo\n",
    "                WHEN MATCHED THEN\n",
    "                UPDATE SET t.TotalAmount = s.TotalAmount + t.TotalAmount, \n",
    "                           t.TotalPoints = s.TotalPoints + t.TotalPoints\n",
    "                WHEN NOT MATCHED THEN\n",
    "                INSERT *\n",
    "            \"\"\"\n",
    "    invoices_df._jdf.sparkSession().sql(merge_statement)\n",
    "\n",
    "def saveResults(invoices_df):\n",
    "    print(f\"\\nStarting Silver Stream...\", end='')\n",
    "    return (invoices_df.writeStream\n",
    "                .queryName(\"gold-update\")\n",
    "                .option(\"checkpointLocation\", f\"{base_data_dir}/chekpoint/customer_rewards8\")\n",
    "                .outputMode(\"update\")\n",
    "                .foreachBatch(aggregate_upsert)\n",
    "                .start()\n",
    "                )\n",
    "    print(\"Done\")\n",
    "\n",
    "def process():\n",
    "    invoices_df =readBronze()\n",
    "    sQuery = saveResults(invoices_df)\n",
    "    return sQuery"
   ]
  },
  {
   "cell_type": "code",
   "execution_count": 0,
   "metadata": {
    "application/vnd.databricks.v1+cell": {
     "cellMetadata": {
      "byteLimit": 2048000,
      "rowLimit": 10000
     },
     "inputWidgets": {},
     "nuid": "89f1e7d7-2930-4ad2-9ed6-7b4f7c529388",
     "showTitle": false,
     "title": ""
    }
   },
   "outputs": [
    {
     "output_type": "stream",
     "name": "stdout",
     "output_type": "stream",
     "text": [
      "\nStarting Silver Stream..."
     ]
    }
   ],
   "source": [
    "Query=process()"
   ]
  },
  {
   "cell_type": "code",
   "execution_count": 0,
   "metadata": {
    "application/vnd.databricks.v1+cell": {
     "cellMetadata": {
      "byteLimit": 2048000,
      "implicitDf": true,
      "rowLimit": 10000
     },
     "inputWidgets": {},
     "nuid": "aaa80d76-ae3b-4244-a5df-ee40a5cd626a",
     "showTitle": false,
     "title": ""
    }
   },
   "outputs": [
    {
     "output_type": "display_data",
     "data": {
      "text/html": [
       "<style scoped>\n",
       "  .table-result-container {\n",
       "    max-height: 300px;\n",
       "    overflow: auto;\n",
       "  }\n",
       "  table, th, td {\n",
       "    border: 1px solid black;\n",
       "    border-collapse: collapse;\n",
       "  }\n",
       "  th, td {\n",
       "    padding: 5px;\n",
       "  }\n",
       "  th {\n",
       "    text-align: left;\n",
       "  }\n",
       "</style><div class='table-result-container'><table class='table-result'><thead style='background-color: white'><tr><th>CustomerCardNo</th><th>TotalAmount</th><th>TotalPoints</th></tr></thead><tbody><tr><td>2262471989</td><td>36859.0</td><td>737.18</td></tr><tr><td>3716602332</td><td>61743.0</td><td>1234.8599999999997</td></tr><tr><td>7829975914</td><td>38799.0</td><td>775.98</td></tr><tr><td>5576072500</td><td>23994.0</td><td>479.88</td></tr><tr><td>2325763742</td><td>30549.0</td><td>610.98</td></tr><tr><td>9316477281</td><td>47894.0</td><td>957.8800000000001</td></tr><tr><td>2502121621</td><td>30121.0</td><td>602.42</td></tr><tr><td>7543202868</td><td>47796.0</td><td>955.9200000000001</td></tr><tr><td>8189067868</td><td>22515.0</td><td>450.3</td></tr><tr><td>6797767929</td><td>30570.0</td><td>611.4000000000001</td></tr><tr><td>1360645962</td><td>39219.0</td><td>784.3800000000001</td></tr><tr><td>5697125813</td><td>49046.0</td><td>980.92</td></tr><tr><td>4227803954</td><td>19190.0</td><td>383.8</td></tr><tr><td>9728415172</td><td>21452.0</td><td>429.04</td></tr><tr><td>2762345282</td><td>14371.0</td><td>287.42</td></tr><tr><td>2389018842</td><td>45199.0</td><td>903.98</td></tr><tr><td>8154556937</td><td>61875.0</td><td>1237.5000000000002</td></tr><tr><td>3996109634</td><td>26709.0</td><td>534.1800000000001</td></tr><tr><td>4692642935</td><td>14717.0</td><td>294.34000000000003</td></tr><tr><td>8109010950</td><td>19766.0</td><td>395.32</td></tr><tr><td>5733357005</td><td>41489.0</td><td>829.7800000000001</td></tr><tr><td>8111613552</td><td>41150.0</td><td>823.0</td></tr><tr><td>9327106277</td><td>55778.0</td><td>1115.5600000000002</td></tr><tr><td>4629185211</td><td>86085.0</td><td>1721.7000000000003</td></tr><tr><td>4937932830</td><td>68227.0</td><td>1364.5399999999997</td></tr><tr><td>1053863739</td><td>25527.0</td><td>510.53999999999996</td></tr><tr><td>7892154732</td><td>77831.0</td><td>1556.6200000000003</td></tr><tr><td>1489226224</td><td>36065.0</td><td>721.3000000000001</td></tr><tr><td>9711257112</td><td>39105.0</td><td>782.0999999999999</td></tr><tr><td>1191112820</td><td>31457.0</td><td>629.14</td></tr><tr><td>4369698403</td><td>35160.0</td><td>703.2</td></tr><tr><td>6909538460</td><td>25221.0</td><td>504.4200000000001</td></tr><tr><td>7589671731</td><td>24065.0</td><td>481.3</td></tr><tr><td>3916555911</td><td>57505.0</td><td>1150.1</td></tr><tr><td>9724245321</td><td>9329.0</td><td>186.57999999999998</td></tr><tr><td>5305473526</td><td>29460.0</td><td>589.1999999999999</td></tr><tr><td>9509332022</td><td>38128.0</td><td>762.56</td></tr><tr><td>6244229107</td><td>23869.0</td><td>477.38</td></tr><tr><td>4552039054</td><td>68557.0</td><td>1371.14</td></tr><tr><td>7475384243</td><td>22781.0</td><td>455.62</td></tr><tr><td>2599848717</td><td>33162.0</td><td>663.24</td></tr><tr><td>9740604930</td><td>67442.0</td><td>1348.8400000000001</td></tr><tr><td>6048272250</td><td>41748.0</td><td>834.9599999999999</td></tr><tr><td>4226427254</td><td>45893.0</td><td>917.86</td></tr><tr><td>5724653917</td><td>33712.0</td><td>674.24</td></tr><tr><td>7587821520</td><td>27347.0</td><td>546.94</td></tr><tr><td>8071065242</td><td>38354.0</td><td>767.08</td></tr><tr><td>6296964163</td><td>51859.0</td><td>1037.18</td></tr><tr><td>5611417583</td><td>59465.0</td><td>1189.3</td></tr><tr><td>7051101351</td><td>69722.0</td><td>1394.4399999999998</td></tr><tr><td>2461788838</td><td>78762.0</td><td>1575.24</td></tr><tr><td>8714158103</td><td>61349.0</td><td>1226.9799999999998</td></tr><tr><td>7136581152</td><td>27506.0</td><td>550.12</td></tr><tr><td>1482417862</td><td>67954.0</td><td>1359.0800000000002</td></tr><tr><td>9223558893</td><td>46186.0</td><td>923.72</td></tr><tr><td>4405006483</td><td>31011.0</td><td>620.22</td></tr><tr><td>6705218300</td><td>25698.0</td><td>513.96</td></tr><tr><td>5947487902</td><td>43702.0</td><td>874.04</td></tr><tr><td>2220404140</td><td>11487.0</td><td>229.73999999999998</td></tr><tr><td>8790333340</td><td>45211.0</td><td>904.22</td></tr><tr><td>9282685191</td><td>32666.0</td><td>653.3199999999999</td></tr><tr><td>5483488802</td><td>21478.0</td><td>429.55999999999995</td></tr><tr><td>1211843745</td><td>56036.0</td><td>1120.72</td></tr><tr><td>6419885098</td><td>35164.0</td><td>703.28</td></tr><tr><td>8651346374</td><td>25410.0</td><td>508.20000000000005</td></tr></tbody></table></div>"
      ]
     },
     "metadata": {
      "application/vnd.databricks.v1+output": {
       "addedWidgets": {},
       "aggData": [],
       "aggError": "",
       "aggOverflow": false,
       "aggSchema": [],
       "aggSeriesLimitReached": false,
       "aggType": "",
       "arguments": {},
       "columnCustomDisplayInfos": {},
       "data": [
        [
         "2262471989",
         36859.0,
         737.18
        ],
        [
         "3716602332",
         61743.0,
         1234.8599999999997
        ],
        [
         "7829975914",
         38799.0,
         775.98
        ],
        [
         "5576072500",
         23994.0,
         479.88
        ],
        [
         "2325763742",
         30549.0,
         610.98
        ],
        [
         "9316477281",
         47894.0,
         957.8800000000001
        ],
        [
         "2502121621",
         30121.0,
         602.42
        ],
        [
         "7543202868",
         47796.0,
         955.9200000000001
        ],
        [
         "8189067868",
         22515.0,
         450.3
        ],
        [
         "6797767929",
         30570.0,
         611.4000000000001
        ],
        [
         "1360645962",
         39219.0,
         784.3800000000001
        ],
        [
         "5697125813",
         49046.0,
         980.92
        ],
        [
         "4227803954",
         19190.0,
         383.8
        ],
        [
         "9728415172",
         21452.0,
         429.04
        ],
        [
         "2762345282",
         14371.0,
         287.42
        ],
        [
         "2389018842",
         45199.0,
         903.98
        ],
        [
         "8154556937",
         61875.0,
         1237.5000000000002
        ],
        [
         "3996109634",
         26709.0,
         534.1800000000001
        ],
        [
         "4692642935",
         14717.0,
         294.34000000000003
        ],
        [
         "8109010950",
         19766.0,
         395.32
        ],
        [
         "5733357005",
         41489.0,
         829.7800000000001
        ],
        [
         "8111613552",
         41150.0,
         823.0
        ],
        [
         "9327106277",
         55778.0,
         1115.5600000000002
        ],
        [
         "4629185211",
         86085.0,
         1721.7000000000003
        ],
        [
         "4937932830",
         68227.0,
         1364.5399999999997
        ],
        [
         "1053863739",
         25527.0,
         510.53999999999996
        ],
        [
         "7892154732",
         77831.0,
         1556.6200000000003
        ],
        [
         "1489226224",
         36065.0,
         721.3000000000001
        ],
        [
         "9711257112",
         39105.0,
         782.0999999999999
        ],
        [
         "1191112820",
         31457.0,
         629.14
        ],
        [
         "4369698403",
         35160.0,
         703.2
        ],
        [
         "6909538460",
         25221.0,
         504.4200000000001
        ],
        [
         "7589671731",
         24065.0,
         481.3
        ],
        [
         "3916555911",
         57505.0,
         1150.1
        ],
        [
         "9724245321",
         9329.0,
         186.57999999999998
        ],
        [
         "5305473526",
         29460.0,
         589.1999999999999
        ],
        [
         "9509332022",
         38128.0,
         762.56
        ],
        [
         "6244229107",
         23869.0,
         477.38
        ],
        [
         "4552039054",
         68557.0,
         1371.14
        ],
        [
         "7475384243",
         22781.0,
         455.62
        ],
        [
         "2599848717",
         33162.0,
         663.24
        ],
        [
         "9740604930",
         67442.0,
         1348.8400000000001
        ],
        [
         "6048272250",
         41748.0,
         834.9599999999999
        ],
        [
         "4226427254",
         45893.0,
         917.86
        ],
        [
         "5724653917",
         33712.0,
         674.24
        ],
        [
         "7587821520",
         27347.0,
         546.94
        ],
        [
         "8071065242",
         38354.0,
         767.08
        ],
        [
         "6296964163",
         51859.0,
         1037.18
        ],
        [
         "5611417583",
         59465.0,
         1189.3
        ],
        [
         "7051101351",
         69722.0,
         1394.4399999999998
        ],
        [
         "2461788838",
         78762.0,
         1575.24
        ],
        [
         "8714158103",
         61349.0,
         1226.9799999999998
        ],
        [
         "7136581152",
         27506.0,
         550.12
        ],
        [
         "1482417862",
         67954.0,
         1359.0800000000002
        ],
        [
         "9223558893",
         46186.0,
         923.72
        ],
        [
         "4405006483",
         31011.0,
         620.22
        ],
        [
         "6705218300",
         25698.0,
         513.96
        ],
        [
         "5947487902",
         43702.0,
         874.04
        ],
        [
         "2220404140",
         11487.0,
         229.73999999999998
        ],
        [
         "8790333340",
         45211.0,
         904.22
        ],
        [
         "9282685191",
         32666.0,
         653.3199999999999
        ],
        [
         "5483488802",
         21478.0,
         429.55999999999995
        ],
        [
         "1211843745",
         56036.0,
         1120.72
        ],
        [
         "6419885098",
         35164.0,
         703.28
        ],
        [
         "8651346374",
         25410.0,
         508.20000000000005
        ]
       ],
       "datasetInfos": [],
       "dbfsResultPath": null,
       "isJsonSchema": true,
       "metadata": {
        "dataframeName": "_sqldf",
        "executionCount": 10
       },
       "overflow": false,
       "plotOptions": {
        "customPlotOptions": {},
        "displayType": "table",
        "pivotAggregation": null,
        "pivotColumns": null,
        "xColumns": null,
        "yColumns": null
       },
       "removedWidgets": [],
       "schema": [
        {
         "metadata": "{}",
         "name": "CustomerCardNo",
         "type": "\"string\""
        },
        {
         "metadata": "{}",
         "name": "TotalAmount",
         "type": "\"double\""
        },
        {
         "metadata": "{}",
         "name": "TotalPoints",
         "type": "\"double\""
        }
       ],
       "type": "table"
      }
     },
     "output_type": "display_data"
    }
   ],
   "source": [
    "%sql\n",
    "select * from customer_rewards8"
   ]
  }
 ],
 "metadata": {
  "application/vnd.databricks.v1+notebook": {
   "dashboards": [],
   "environmentMetadata": null,
   "language": "python",
   "notebookMetadata": {
    "mostRecentlyExecutedCommandWithImplicitDF": {
     "commandId": 2334675784147036,
     "dataframes": [
      "_sqldf"
     ]
    },
    "pythonIndentUnit": 4
   },
   "notebookName": "3-streaming-incremental-unbounded-aggregates",
   "widgets": {}
  }
 },
 "nbformat": 4,
 "nbformat_minor": 0
}
