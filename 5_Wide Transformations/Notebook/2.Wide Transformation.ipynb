{
 "cells": [
  {
   "cell_type": "markdown",
   "metadata": {
    "application/vnd.databricks.v1+cell": {
     "cellMetadata": {},
     "inputWidgets": {},
     "nuid": "f8fe124c-5361-44ad-a952-d42278eb5bde",
     "showTitle": false,
     "title": ""
    }
   },
   "source": [
    "#Group By"
   ]
  },
  {
   "cell_type": "code",
   "execution_count": 0,
   "metadata": {
    "application/vnd.databricks.v1+cell": {
     "cellMetadata": {
      "byteLimit": 2048000,
      "rowLimit": 10000
     },
     "inputWidgets": {},
     "nuid": "b57c59cf-9125-4409-8d49-09fe28c70777",
     "showTitle": false,
     "title": ""
    }
   },
   "outputs": [],
   "source": [
    "# Read data into a DataFrame\n",
    "data = [(\"Alice\", \"Sales\", 4000),\n",
    "        (\"Bob\", \"HR\", 5000),\n",
    "        (\"Carol\", \"Sales\", 6000),\n",
    "        (\"Dave\", \"IT\", 5500),\n",
    "        (\"Eve\", \"HR\", 6000)]\n",
    "\n",
    "columns = [\"Name\", \"Department\", \"Salary\"]\n",
    "df = spark.createDataFrame(data,columns)"
   ]
  },
  {
   "cell_type": "code",
   "execution_count": 0,
   "metadata": {
    "application/vnd.databricks.v1+cell": {
     "cellMetadata": {
      "byteLimit": 2048000,
      "rowLimit": 10000
     },
     "inputWidgets": {},
     "nuid": "e2ab5993-0148-44b3-ac7e-b524d87a3169",
     "showTitle": false,
     "title": ""
    }
   },
   "outputs": [
    {
     "output_type": "stream",
     "name": "stdout",
     "output_type": "stream",
     "text": [
      "+-----+----------+------+\n|Name |Department|Salary|\n+-----+----------+------+\n|Alice|Sales     |4000  |\n|Bob  |HR        |5000  |\n|Carol|Sales     |6000  |\n|Dave |IT        |5500  |\n|Eve  |HR        |6000  |\n+-----+----------+------+\n\n"
     ]
    }
   ],
   "source": [
    "df.show(truncate=False)"
   ]
  },
  {
   "cell_type": "code",
   "execution_count": 0,
   "metadata": {
    "application/vnd.databricks.v1+cell": {
     "cellMetadata": {
      "byteLimit": 2048000,
      "rowLimit": 10000
     },
     "inputWidgets": {},
     "nuid": "b7d63b6c-3664-4ec5-a30a-1da07ba5c3d1",
     "showTitle": false,
     "title": ""
    }
   },
   "outputs": [
    {
     "output_type": "stream",
     "name": "stdout",
     "output_type": "stream",
     "text": [
      "+----------+-----------+\n|Department|sum(Salary)|\n+----------+-----------+\n|     Sales|      10000|\n|        HR|      11000|\n|        IT|       5500|\n+----------+-----------+\n\n"
     ]
    }
   ],
   "source": [
    "gr = df.groupBy(\"Department\").sum('Salary')\n",
    "gr.show()"
   ]
  },
  {
   "cell_type": "code",
   "execution_count": 0,
   "metadata": {
    "application/vnd.databricks.v1+cell": {
     "cellMetadata": {
      "byteLimit": 2048000,
      "rowLimit": 10000
     },
     "inputWidgets": {},
     "nuid": "24dc6f58-be11-4aee-be1f-6478a13145d5",
     "showTitle": false,
     "title": ""
    }
   },
   "outputs": [
    {
     "output_type": "stream",
     "name": "stdout",
     "output_type": "stream",
     "text": [
      "+----------+-----------+\n|Department|sum(Salary)|\n+----------+-----------+\n|     Sales|      10000|\n|        HR|      11000|\n|        IT|       5500|\n+----------+-----------+\n\n"
     ]
    }
   ],
   "source": [
    "grouped = df.groupBy(\"Department\").sum('Salary')\n",
    "grouped.show()\n",
    "\n",
    "\n"
   ]
  },
  {
   "cell_type": "code",
   "execution_count": 0,
   "metadata": {
    "application/vnd.databricks.v1+cell": {
     "cellMetadata": {
      "byteLimit": 2048000,
      "rowLimit": 10000
     },
     "inputWidgets": {},
     "nuid": "a2a4f6b5-e87c-41e2-aeef-af9c9fe49e35",
     "showTitle": false,
     "title": ""
    }
   },
   "outputs": [],
   "source": [
    "from pyspark.sql.functions import *"
   ]
  },
  {
   "cell_type": "code",
   "execution_count": 0,
   "metadata": {
    "application/vnd.databricks.v1+cell": {
     "cellMetadata": {
      "byteLimit": 2048000,
      "rowLimit": 10000
     },
     "inputWidgets": {},
     "nuid": "3975d0bf-75fe-49f5-99a6-4fb21a5fc26e",
     "showTitle": false,
     "title": ""
    }
   },
   "outputs": [
    {
     "output_type": "stream",
     "name": "stdout",
     "output_type": "stream",
     "text": [
      "+----------+-----------+\n|Department|sum(Salary)|\n+----------+-----------+\n|     Sales|      10000|\n|        HR|      11000|\n|        IT|       5500|\n+----------+-----------+\n\n"
     ]
    }
   ],
   "source": [
    "df_grouped = df.groupBy(\"Department\").sum('Salary')\n",
    "df_grouped.show()"
   ]
  },
  {
   "cell_type": "code",
   "execution_count": 0,
   "metadata": {
    "application/vnd.databricks.v1+cell": {
     "cellMetadata": {
      "byteLimit": 2048000,
      "rowLimit": 10000
     },
     "inputWidgets": {},
     "nuid": "01cac9e7-cc97-4567-a944-90f41fb2789c",
     "showTitle": false,
     "title": ""
    }
   },
   "outputs": [
    {
     "output_type": "execute_result",
     "data": {
      "text/plain": [
       "3"
      ]
     },
     "execution_count": 13,
     "metadata": {},
     "output_type": "execute_result"
    }
   ],
   "source": [
    "df_grouped.count()"
   ]
  },
  {
   "cell_type": "code",
   "execution_count": 0,
   "metadata": {
    "application/vnd.databricks.v1+cell": {
     "cellMetadata": {
      "byteLimit": 2048000,
      "rowLimit": 10000
     },
     "inputWidgets": {},
     "nuid": "b42f3a00-d60d-4f86-a83e-c4a5fc4b9bcf",
     "showTitle": false,
     "title": ""
    }
   },
   "outputs": [
    {
     "output_type": "execute_result",
     "data": {
      "text/plain": [
       "3"
      ]
     },
     "execution_count": 42,
     "metadata": {},
     "output_type": "execute_result"
    }
   ],
   "source": [
    "df_count.count()"
   ]
  },
  {
   "cell_type": "code",
   "execution_count": 0,
   "metadata": {
    "application/vnd.databricks.v1+cell": {
     "cellMetadata": {
      "byteLimit": 2048000,
      "rowLimit": 10000
     },
     "inputWidgets": {},
     "nuid": "542c825f-a553-4851-ac62-90f0f5a33f88",
     "showTitle": false,
     "title": ""
    }
   },
   "outputs": [
    {
     "output_type": "stream",
     "name": "stdout",
     "output_type": "stream",
     "text": [
      "+----------+-----------+-----------+-------------+\n|Department|sum(Salary)|avg(Salary)|count(Salary)|\n+----------+-----------+-----------+-------------+\n|     Sales|      10000|     5000.0|            2|\n|        HR|      11000|     5500.0|            2|\n|        IT|       5500|     5500.0|            1|\n+----------+-----------+-----------+-------------+\n\n"
     ]
    }
   ],
   "source": [
    "df.groupBy(\"Department\").agg(sum(col(\"Salary\")),avg(col(\"Salary\")),count(col(\"Salary\"))).show()"
   ]
  },
  {
   "cell_type": "code",
   "execution_count": 0,
   "metadata": {
    "application/vnd.databricks.v1+cell": {
     "cellMetadata": {
      "byteLimit": 2048000,
      "rowLimit": 10000
     },
     "inputWidgets": {},
     "nuid": "674306d2-55b2-4a27-aec3-367fad7b7a38",
     "showTitle": false,
     "title": ""
    }
   },
   "outputs": [
    {
     "output_type": "execute_result",
     "data": {
      "text/plain": [
       "5"
      ]
     },
     "execution_count": 36,
     "metadata": {},
     "output_type": "execute_result"
    }
   ],
   "source": [
    "df.count()"
   ]
  },
  {
   "cell_type": "markdown",
   "metadata": {
    "application/vnd.databricks.v1+cell": {
     "cellMetadata": {},
     "inputWidgets": {},
     "nuid": "851b066d-1404-4802-9053-9e11354852fe",
     "showTitle": false,
     "title": ""
    }
   },
   "source": [
    "##Pivot"
   ]
  },
  {
   "cell_type": "code",
   "execution_count": 0,
   "metadata": {
    "application/vnd.databricks.v1+cell": {
     "cellMetadata": {
      "byteLimit": 2048000,
      "rowLimit": 10000
     },
     "inputWidgets": {},
     "nuid": "2f504f8c-0ae5-4110-af96-4fc6184fa306",
     "showTitle": false,
     "title": ""
    }
   },
   "outputs": [
    {
     "output_type": "stream",
     "name": "stdout",
     "output_type": "stream",
     "text": [
      "+-----+-------------+-----+\n| Name|      Subject|Score|\n+-----+-------------+-----+\n|Alice|         Math|   95|\n|Alice|      Science|   88|\n|Alice|Moral Science|   88|\n|  Bob|         Math|   92|\n|  Bob|      Science|   90|\n|Carol|         Math|   85|\n|Carol|      Science|   78|\n+-----+-------------+-----+\n\n"
     ]
    }
   ],
   "source": [
    "data = [(\"Alice\", \"Math\", 95),\n",
    "        (\"Alice\", \"Science\", 88),\n",
    "        (\"Alice\", \"Moral Science\", 88),\n",
    "        (\"Bob\", \"Math\", 92),\n",
    "        (\"Bob\", \"Science\", 90),\n",
    "        (\"Carol\", \"Math\", 85),\n",
    "        (\"Carol\", \"Science\", 78)]\n",
    "\n",
    "columns = [\"Name\", \"Subject\", \"Score\"]\n",
    "df = spark.createDataFrame(data, columns)\n",
    "df.show()\n"
   ]
  },
  {
   "cell_type": "code",
   "execution_count": 0,
   "metadata": {
    "application/vnd.databricks.v1+cell": {
     "cellMetadata": {},
     "inputWidgets": {},
     "nuid": "1785a09c-323d-49f0-a044-63f2517aa1ed",
     "showTitle": false,
     "title": ""
    }
   },
   "outputs": [],
   "source": [
    "pivot"
   ]
  },
  {
   "cell_type": "code",
   "execution_count": 0,
   "metadata": {
    "application/vnd.databricks.v1+cell": {
     "cellMetadata": {
      "byteLimit": 2048000,
      "rowLimit": 10000
     },
     "inputWidgets": {},
     "nuid": "6c3a0a70-4d5a-420e-ae4d-fb49409196b6",
     "showTitle": false,
     "title": ""
    }
   },
   "outputs": [],
   "source": [
    "pivoted_df = df.groupBy(\"Name\").pivot(\"Subject\").agg({\"Score\": \"first\"})"
   ]
  },
  {
   "cell_type": "code",
   "execution_count": 0,
   "metadata": {
    "application/vnd.databricks.v1+cell": {
     "cellMetadata": {
      "byteLimit": 2048000,
      "rowLimit": 10000
     },
     "inputWidgets": {},
     "nuid": "171f6c6d-8aba-40c4-b542-1b22af5c6cce",
     "showTitle": false,
     "title": ""
    }
   },
   "outputs": [
    {
     "output_type": "stream",
     "name": "stdout",
     "output_type": "stream",
     "text": [
      "+-----+-------------+-----+\n| Name|      Subject|Score|\n+-----+-------------+-----+\n|Alice|         Math|   95|\n|Alice|      Science|   88|\n|Alice|Moral Science|   88|\n|Carol|         Math|   85|\n|Carol|      Science|   78|\n|  Bob|         Math|   92|\n|  Bob|      Science|   90|\n+-----+-------------+-----+\n\n+-----+----+-------------+-------+\n| Name|Math|Moral Science|Science|\n+-----+----+-------------+-------+\n|Carol|  85|         NULL|     78|\n|  Bob|  92|         NULL|     90|\n|Alice|  95|           88|     88|\n+-----+----+-------------+-------+\n\n"
     ]
    }
   ],
   "source": [
    "data = [(\"Alice\", \"Math\", 95),\n",
    "        (\"Alice\", \"Science\", 88),\n",
    "        (\"Alice\", \"Moral Science\", 88),\n",
    "        (\"Carol\", \"Math\", 85),\n",
    "        (\"Carol\", \"Science\", 78),\n",
    "        (\"Bob\", \"Math\", 92),\n",
    "        (\"Bob\", \"Science\", 90)]\n",
    "\n",
    "columns = [\"Name\", \"Subject\", \"Score\"]\n",
    "df = spark.createDataFrame(data, columns)\n",
    "df.show()\n",
    "\n",
    "pivoted_df = df.groupBy(\"Name\").pivot(\"Subject\").agg({\"Score\": \"last\"})\n",
    "pivoted_df.show()\n"
   ]
  },
  {
   "cell_type": "code",
   "execution_count": 0,
   "metadata": {
    "application/vnd.databricks.v1+cell": {
     "cellMetadata": {
      "byteLimit": 2048000,
      "rowLimit": 10000
     },
     "inputWidgets": {},
     "nuid": "d90c6b2a-0790-4d4c-a0ce-32f38d94bc4f",
     "showTitle": false,
     "title": ""
    }
   },
   "outputs": [
    {
     "output_type": "stream",
     "name": "stdout",
     "output_type": "stream",
     "text": [
      "+-----+----+-------------+-------+\n|Name |Math|Moral Science|Science|\n+-----+----+-------------+-------+\n|Carol|85  |NULL         |78     |\n|Bob  |92  |NULL         |90     |\n|Alice|95  |88           |88     |\n+-----+----+-------------+-------+\n\n"
     ]
    }
   ],
   "source": [
    "pivoted_df.show(truncate=False)"
   ]
  },
  {
   "cell_type": "code",
   "execution_count": 0,
   "metadata": {
    "application/vnd.databricks.v1+cell": {
     "cellMetadata": {},
     "inputWidgets": {},
     "nuid": "0768fa3c-fb6b-4901-8c67-0218274e064f",
     "showTitle": false,
     "title": ""
    }
   },
   "outputs": [],
   "source": []
  },
  {
   "cell_type": "code",
   "execution_count": 0,
   "metadata": {
    "application/vnd.databricks.v1+cell": {
     "cellMetadata": {
      "byteLimit": 2048000,
      "rowLimit": 10000
     },
     "inputWidgets": {},
     "nuid": "be1ccc47-fa94-4677-bc9c-3a31175aad38",
     "showTitle": false,
     "title": ""
    }
   },
   "outputs": [
    {
     "output_type": "stream",
     "name": "stdout",
     "output_type": "stream",
     "text": [
      "+-----+-------------+------+\n| Name|     Subjects|Scores|\n+-----+-------------+------+\n|Carol|         Math|    85|\n|Carol|Moral Science|  NULL|\n|Carol|      Science|    78|\n|  Bob|         Math|    92|\n|  Bob|Moral Science|  NULL|\n|  Bob|      Science|    90|\n|Alice|         Math|    95|\n|Alice|Moral Science|    88|\n|Alice|      Science|    88|\n+-----+-------------+------+\n\n"
     ]
    }
   ],
   "source": [
    "pivoted_df.unpivot(\"Name\", [\"Math\", \"Moral Science\",\"Science\"], \"Subjects\", \"Scores\").show()"
   ]
  },
  {
   "cell_type": "markdown",
   "metadata": {
    "application/vnd.databricks.v1+cell": {
     "cellMetadata": {},
     "inputWidgets": {},
     "nuid": "8c3dff9e-051b-46d5-ae1a-a465c20009e5",
     "showTitle": false,
     "title": ""
    }
   },
   "source": [
    "##Unpivot"
   ]
  },
  {
   "cell_type": "code",
   "execution_count": 0,
   "metadata": {
    "application/vnd.databricks.v1+cell": {
     "cellMetadata": {
      "byteLimit": 2048000,
      "rowLimit": 10000
     },
     "inputWidgets": {},
     "nuid": "32746591-c7d0-4043-81ad-22f663114768",
     "showTitle": false,
     "title": ""
    }
   },
   "outputs": [
    {
     "output_type": "stream",
     "name": "stdout",
     "output_type": "stream",
     "text": [
      "+---+---+------+\n| id|int|double|\n+---+---+------+\n|  1| 11|   1.1|\n|  2| 12|   1.2|\n+---+---+------+\n\n"
     ]
    }
   ],
   "source": [
    "df = spark.createDataFrame(\n",
    "    [(1, 11, 1.1), (2, 12, 1.2)],\n",
    "    [\"id\", \"int\", \"double\"],\n",
    ")\n",
    "\n",
    "df.show()\n"
   ]
  },
  {
   "cell_type": "code",
   "execution_count": 0,
   "metadata": {
    "application/vnd.databricks.v1+cell": {
     "cellMetadata": {
      "byteLimit": 2048000,
      "rowLimit": 10000
     },
     "inputWidgets": {},
     "nuid": "58fe6764-3b53-45ac-b570-0d4b8bf52b4e",
     "showTitle": false,
     "title": ""
    }
   },
   "outputs": [
    {
     "output_type": "stream",
     "name": "stdout",
     "output_type": "stream",
     "text": [
      "+---+------+----+\n| id|   var| val|\n+---+------+----+\n|  1|   int|11.0|\n|  1|double| 1.1|\n|  2|   int|12.0|\n|  2|double| 1.2|\n+---+------+----+\n\n"
     ]
    }
   ],
   "source": [
    "\n",
    "df.unpivot(\"id\", [\"int\", \"double\"], \"var\", \"val\").show()\n"
   ]
  },
  {
   "cell_type": "markdown",
   "metadata": {
    "application/vnd.databricks.v1+cell": {
     "cellMetadata": {},
     "inputWidgets": {},
     "nuid": "6869a2a9-6840-4395-8bb8-5a443b113c37",
     "showTitle": false,
     "title": ""
    }
   },
   "source": [
    "#Window Functions"
   ]
  },
  {
   "cell_type": "code",
   "execution_count": 0,
   "metadata": {
    "application/vnd.databricks.v1+cell": {
     "cellMetadata": {
      "byteLimit": 2048000,
      "rowLimit": 10000
     },
     "inputWidgets": {},
     "nuid": "82e6f64b-7e13-4c81-8f83-033b22ca8059",
     "showTitle": false,
     "title": ""
    }
   },
   "outputs": [],
   "source": [
    "# Create a sample DataFrame\n",
    "data = [(\"Sales\", \"Alice\", 5000),\n",
    "        (\"Sales\", \"Bob\", 6000),\n",
    "        (\"IT\", \"Carol\", 7000),\n",
    "        (\"IT\", \"Dave\", 8000),\n",
    "        (\"IT\", \"Eve\", 9000)]\n",
    "\n",
    "columns = [\"department\", \"employee\", \"salary\"]\n",
    "df = spark.createDataFrame(data, columns)\n"
   ]
  },
  {
   "cell_type": "code",
   "execution_count": 0,
   "metadata": {
    "application/vnd.databricks.v1+cell": {
     "cellMetadata": {
      "byteLimit": 2048000,
      "rowLimit": 10000
     },
     "inputWidgets": {},
     "nuid": "5544d28e-253c-4c2c-9c8d-9f8ff9b10bbf",
     "showTitle": false,
     "title": ""
    }
   },
   "outputs": [],
   "source": [
    "\n",
    "from pyspark.sql.window import Window\n",
    "from pyspark.sql.functions import rank\n"
   ]
  },
  {
   "cell_type": "code",
   "execution_count": 0,
   "metadata": {
    "application/vnd.databricks.v1+cell": {
     "cellMetadata": {
      "byteLimit": 2048000,
      "rowLimit": 10000
     },
     "inputWidgets": {},
     "nuid": "254213fe-14af-45b3-935b-e3cd1ae1abe5",
     "showTitle": false,
     "title": ""
    }
   },
   "outputs": [],
   "source": [
    "window_spec = Window.partitionBy(\"department\").orderBy(df[\"salary\"])"
   ]
  },
  {
   "cell_type": "code",
   "execution_count": 0,
   "metadata": {
    "application/vnd.databricks.v1+cell": {
     "cellMetadata": {
      "byteLimit": 2048000,
      "rowLimit": 10000
     },
     "inputWidgets": {},
     "nuid": "457515cb-1dd6-4249-89a3-a1fca219940f",
     "showTitle": false,
     "title": ""
    }
   },
   "outputs": [],
   "source": [
    "ranked_df = df.withColumn(\"rank\", rank().over(Window.partitionBy(\"department\").orderBy(df[\"salary\"])))"
   ]
  },
  {
   "cell_type": "code",
   "execution_count": 0,
   "metadata": {
    "application/vnd.databricks.v1+cell": {
     "cellMetadata": {
      "byteLimit": 2048000,
      "rowLimit": 10000
     },
     "inputWidgets": {},
     "nuid": "cb722001-3521-4600-8247-7a149b8f976b",
     "showTitle": false,
     "title": ""
    }
   },
   "outputs": [
    {
     "output_type": "stream",
     "name": "stdout",
     "output_type": "stream",
     "text": [
      "+----------+--------+------+----+\n|department|employee|salary|rank|\n+----------+--------+------+----+\n|IT        |Carol   |7000  |1   |\n|IT        |Dave    |8000  |2   |\n|IT        |Eve     |9000  |3   |\n|Sales     |Alice   |5000  |1   |\n|Sales     |Bob     |6000  |2   |\n+----------+--------+------+----+\n\n"
     ]
    }
   ],
   "source": [
    "ranked_df.show(truncate=False)"
   ]
  },
  {
   "cell_type": "code",
   "execution_count": 0,
   "metadata": {
    "application/vnd.databricks.v1+cell": {
     "cellMetadata": {
      "byteLimit": 2048000,
      "rowLimit": 10000
     },
     "inputWidgets": {},
     "nuid": "8940cd94-dbf9-4529-9499-eb3edb5ced23",
     "showTitle": false,
     "title": ""
    }
   },
   "outputs": [
    {
     "output_type": "stream",
     "name": "stdout",
     "output_type": "stream",
     "text": [
      "+----------+--------+------+----------+\n|department|employee|salary|avg_salary|\n+----------+--------+------+----------+\n|        IT|   Carol|  7000|    8000.0|\n|        IT|    Dave|  8000|    8000.0|\n|        IT|     Eve|  9000|    8000.0|\n|     Sales|   Alice|  5000|    5500.0|\n|     Sales|     Bob|  6000|    5500.0|\n+----------+--------+------+----------+\n\n"
     ]
    }
   ],
   "source": [
    "from pyspark.sql.functions import avg\n",
    "\n",
    "window_spec = Window.partitionBy(\"department\")\n",
    "\n",
    "avg_salary_df = df.withColumn(\"avg_salary\", avg(df[\"salary\"]).over(window_spec))\n",
    "avg_salary_df.show()\n",
    "\n"
   ]
  },
  {
   "cell_type": "markdown",
   "metadata": {
    "application/vnd.databricks.v1+cell": {
     "cellMetadata": {},
     "inputWidgets": {},
     "nuid": "9d03c162-a5f6-45dd-aac4-3c15bb271c62",
     "showTitle": false,
     "title": ""
    }
   },
   "source": [
    "# Compute a rolling sum of salaries within each department for a specific range of rows."
   ]
  },
  {
   "cell_type": "code",
   "execution_count": 0,
   "metadata": {
    "application/vnd.databricks.v1+cell": {
     "cellMetadata": {
      "byteLimit": 2048000,
      "rowLimit": 10000
     },
     "inputWidgets": {},
     "nuid": "f03ffc3f-1b0a-443d-8940-fbde7472976a",
     "showTitle": false,
     "title": ""
    }
   },
   "outputs": [
    {
     "output_type": "stream",
     "name": "stdout",
     "output_type": "stream",
     "text": [
      "+----------+--------+------+-----------+\n|department|employee|salary|rolling_sum|\n+----------+--------+------+-----------+\n|        IT|   Carol|  7000|      15000|\n|        IT|    Dave|  8000|      24000|\n|        IT|     Eve|  9000|      17000|\n|     Sales|   Alice|  5000|      11000|\n|     Sales|     Bob|  6000|      11000|\n+----------+--------+------+-----------+\n\n"
     ]
    }
   ],
   "source": [
    "from pyspark.sql.functions import sum\n",
    "\n",
    "window_spec = Window.partitionBy(\"department\").orderBy(df[\"salary\"]).rowsBetween(-1, 1)\n",
    "\n",
    "rolling_sum_df = df.withColumn(\"rolling_sum\", sum(df[\"salary\"]).over(window_spec))\n",
    "rolling_sum_df.show()\n"
   ]
  },
  {
   "cell_type": "code",
   "execution_count": 0,
   "metadata": {
    "application/vnd.databricks.v1+cell": {
     "cellMetadata": {},
     "inputWidgets": {},
     "nuid": "bb704dc5-4c08-4e7d-a155-953170f8b433",
     "showTitle": false,
     "title": ""
    }
   },
   "outputs": [],
   "source": []
  }
 ],
 "metadata": {
  "application/vnd.databricks.v1+notebook": {
   "dashboards": [],
   "environmentMetadata": null,
   "language": "python",
   "notebookMetadata": {
    "pythonIndentUnit": 4
   },
   "notebookName": "2.Wide Transformation",
   "widgets": {}
  }
 },
 "nbformat": 4,
 "nbformat_minor": 0
}
