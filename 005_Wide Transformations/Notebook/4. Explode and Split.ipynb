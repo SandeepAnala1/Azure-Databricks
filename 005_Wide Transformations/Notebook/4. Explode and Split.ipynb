{
 "cells": [
  {
   "cell_type": "markdown",
   "metadata": {
    "application/vnd.databricks.v1+cell": {
     "cellMetadata": {},
     "inputWidgets": {},
     "nuid": "cfea4310-1c57-4b89-b8b0-cb417d5b7b59",
     "showTitle": false,
     "title": ""
    }
   },
   "source": [
    "##Explode"
   ]
  },
  {
   "cell_type": "code",
   "execution_count": 0,
   "metadata": {
    "application/vnd.databricks.v1+cell": {
     "cellMetadata": {
      "byteLimit": 2048000,
      "rowLimit": 10000
     },
     "inputWidgets": {},
     "nuid": "686dea29-235f-4e65-a19b-23c63b6f2873",
     "showTitle": false,
     "title": ""
    }
   },
   "outputs": [],
   "source": [
    "# Sample data with an array of structs\n",
    "data = [(\"Alice\", [{\"subject\": \"Math\", \"score\": 90}, {\"subject\": \"English\", \"score\": 85}]),\n",
    "        (\"Bob\", [{\"subject\": \"Math\", \"score\": 88}, {\"subject\": \"English\", \"score\": 92}]),\n",
    "        (\"Charlie\", [{\"subject\": \"Math\", \"score\": 78}]),\n",
    "        (\"David\", [{\"subject\": \"Math\", \"score\": 95}, {\"subject\": \"English\", \"score\": 89}])]\n"
   ]
  },
  {
   "cell_type": "code",
   "execution_count": 0,
   "metadata": {
    "application/vnd.databricks.v1+cell": {
     "cellMetadata": {
      "byteLimit": 2048000,
      "rowLimit": 10000
     },
     "inputWidgets": {},
     "nuid": "62f38ba2-8879-4650-9a58-9d4504fd7acb",
     "showTitle": false,
     "title": ""
    }
   },
   "outputs": [],
   "source": [
    "schema = [\"name\", \"subjects_and_scores\"]"
   ]
  },
  {
   "cell_type": "code",
   "execution_count": 0,
   "metadata": {
    "application/vnd.databricks.v1+cell": {
     "cellMetadata": {
      "byteLimit": 2048000,
      "rowLimit": 10000
     },
     "inputWidgets": {},
     "nuid": "8a529e14-eda7-417a-baa7-ac77f3e18010",
     "showTitle": false,
     "title": ""
    }
   },
   "outputs": [],
   "source": [
    "df = spark.createDataFrame(data, schema)"
   ]
  },
  {
   "cell_type": "code",
   "execution_count": 0,
   "metadata": {
    "application/vnd.databricks.v1+cell": {
     "cellMetadata": {
      "byteLimit": 2048000,
      "rowLimit": 10000
     },
     "inputWidgets": {},
     "nuid": "116759ef-065d-4038-a0c9-4f5877cb25be",
     "showTitle": false,
     "title": ""
    }
   },
   "outputs": [
    {
     "output_type": "stream",
     "name": "stdout",
     "output_type": "stream",
     "text": [
      "+-------+-------------------------------------------------------------------+\n|name   |subjects_and_scores                                                |\n+-------+-------------------------------------------------------------------+\n|Alice  |[{score -> 90, subject -> Math}, {score -> 85, subject -> English}]|\n|Bob    |[{score -> 88, subject -> Math}, {score -> 92, subject -> English}]|\n|Charlie|[{score -> 78, subject -> Math}]                                   |\n|David  |[{score -> 95, subject -> Math}, {score -> 89, subject -> English}]|\n+-------+-------------------------------------------------------------------+\n\n"
     ]
    }
   ],
   "source": [
    "df.show(truncate=False)"
   ]
  },
  {
   "cell_type": "code",
   "execution_count": 0,
   "metadata": {
    "application/vnd.databricks.v1+cell": {
     "cellMetadata": {
      "byteLimit": 2048000,
      "rowLimit": 10000
     },
     "inputWidgets": {},
     "nuid": "b7a5cfe1-4ecd-4c70-902f-a234a1846918",
     "showTitle": false,
     "title": ""
    }
   },
   "outputs": [],
   "source": [
    "from pyspark.sql.functions import *"
   ]
  },
  {
   "cell_type": "code",
   "execution_count": 0,
   "metadata": {
    "application/vnd.databricks.v1+cell": {
     "cellMetadata": {
      "byteLimit": 2048000,
      "rowLimit": 10000
     },
     "inputWidgets": {},
     "nuid": "4f2d09d3-29d4-4fcc-a6ba-333839e30a5d",
     "showTitle": false,
     "title": ""
    }
   },
   "outputs": [],
   "source": [
    "\n",
    "exploded_df = df.select(\"name\",explode(\"subjects_and_scores\").alias(\"subject_score\"))"
   ]
  },
  {
   "cell_type": "code",
   "execution_count": 0,
   "metadata": {
    "application/vnd.databricks.v1+cell": {
     "cellMetadata": {
      "byteLimit": 2048000,
      "rowLimit": 10000
     },
     "inputWidgets": {},
     "nuid": "15be155b-086a-4120-a84a-d087b6dfaacf",
     "showTitle": false,
     "title": ""
    }
   },
   "outputs": [
    {
     "output_type": "stream",
     "name": "stdout",
     "output_type": "stream",
     "text": [
      "+-------+---------------------------------+\n|name   |subject_score                    |\n+-------+---------------------------------+\n|Alice  |{score -> 90, subject -> Math}   |\n|Alice  |{score -> 85, subject -> English}|\n|Bob    |{score -> 88, subject -> Math}   |\n|Bob    |{score -> 92, subject -> English}|\n|Charlie|{score -> 78, subject -> Math}   |\n|David  |{score -> 95, subject -> Math}   |\n|David  |{score -> 89, subject -> English}|\n+-------+---------------------------------+\n\n"
     ]
    }
   ],
   "source": [
    "exploded_df.show(truncate=False)"
   ]
  },
  {
   "cell_type": "code",
   "execution_count": 0,
   "metadata": {
    "application/vnd.databricks.v1+cell": {
     "cellMetadata": {
      "byteLimit": 2048000,
      "rowLimit": 10000
     },
     "inputWidgets": {},
     "nuid": "c1b52f3e-2a10-4162-85d2-71ade005944d",
     "showTitle": false,
     "title": ""
    }
   },
   "outputs": [
    {
     "output_type": "stream",
     "name": "stdout",
     "output_type": "stream",
     "text": [
      "+-------+-----+-------+\n|   name|score|subject|\n+-------+-----+-------+\n|  Alice|   90|   Math|\n|  Alice|   85|English|\n|    Bob|   88|   Math|\n|    Bob|   92|English|\n|Charlie|   78|   Math|\n|  David|   95|   Math|\n|  David|   89|English|\n+-------+-----+-------+\n\n"
     ]
    }
   ],
   "source": [
    "exploded_df.select('name','subject_score.score','subject_score.subject').show()"
   ]
  },
  {
   "cell_type": "code",
   "execution_count": 0,
   "metadata": {
    "application/vnd.databricks.v1+cell": {
     "cellMetadata": {
      "byteLimit": 2048000,
      "rowLimit": 10000
     },
     "inputWidgets": {},
     "nuid": "96bc28d8-a9eb-4e55-bf2a-b2342375efb8",
     "showTitle": false,
     "title": ""
    }
   },
   "outputs": [],
   "source": [
    "df_select=exploded_df.select('name','subject_score.score','subject_score.subject')"
   ]
  },
  {
   "cell_type": "code",
   "execution_count": 0,
   "metadata": {
    "application/vnd.databricks.v1+cell": {
     "cellMetadata": {
      "byteLimit": 2048000,
      "rowLimit": 10000
     },
     "inputWidgets": {},
     "nuid": "cba3af50-a95d-4b1d-bb0a-44078fe0b424",
     "showTitle": false,
     "title": ""
    }
   },
   "outputs": [
    {
     "output_type": "stream",
     "name": "stdout",
     "output_type": "stream",
     "text": [
      "+-------+-----+-------+\n|name   |score|subject|\n+-------+-----+-------+\n|Alice  |90   |Math   |\n|Alice  |85   |English|\n|Bob    |88   |Math   |\n|Bob    |92   |English|\n|Charlie|78   |Math   |\n|David  |95   |Math   |\n|David  |89   |English|\n+-------+-----+-------+\n\n"
     ]
    }
   ],
   "source": [
    "df_select.show(truncate=False)\n"
   ]
  },
  {
   "cell_type": "code",
   "execution_count": 0,
   "metadata": {
    "application/vnd.databricks.v1+cell": {
     "cellMetadata": {
      "byteLimit": 2048000,
      "rowLimit": 10000
     },
     "inputWidgets": {},
     "nuid": "f66cc44d-8af2-4570-afcb-cb782a48db25",
     "showTitle": false,
     "title": ""
    }
   },
   "outputs": [],
   "source": [
    "data1 = [('Alice',[{\"scores\":[90,100,120]}])]"
   ]
  },
  {
   "cell_type": "code",
   "execution_count": 0,
   "metadata": {
    "application/vnd.databricks.v1+cell": {
     "cellMetadata": {
      "byteLimit": 2048000,
      "rowLimit": 10000
     },
     "inputWidgets": {},
     "nuid": "c27a8c75-40c5-4a0f-90a1-49d8e327b0d4",
     "showTitle": false,
     "title": ""
    }
   },
   "outputs": [],
   "source": [
    "schema1 = ['name','scores']"
   ]
  },
  {
   "cell_type": "code",
   "execution_count": 0,
   "metadata": {
    "application/vnd.databricks.v1+cell": {
     "cellMetadata": {
      "byteLimit": 2048000,
      "rowLimit": 10000
     },
     "inputWidgets": {},
     "nuid": "5ac762d2-0917-43b6-86ed-f74f393ed001",
     "showTitle": false,
     "title": ""
    }
   },
   "outputs": [],
   "source": [
    "df1=spark.createDataFrame(data1,schema1)"
   ]
  },
  {
   "cell_type": "code",
   "execution_count": 0,
   "metadata": {
    "application/vnd.databricks.v1+cell": {
     "cellMetadata": {
      "byteLimit": 2048000,
      "rowLimit": 10000
     },
     "inputWidgets": {},
     "nuid": "9661f7c7-4137-4924-99b0-6444362e00e8",
     "showTitle": false,
     "title": ""
    }
   },
   "outputs": [
    {
     "output_type": "stream",
     "name": "stdout",
     "output_type": "stream",
     "text": [
      "+-----+----------------------------+\n|name |scores                      |\n+-----+----------------------------+\n|Alice|[{scores -> [90, 100, 120]}]|\n+-----+----------------------------+\n\n"
     ]
    }
   ],
   "source": [
    "df1.show(truncate=False)"
   ]
  },
  {
   "cell_type": "code",
   "execution_count": 0,
   "metadata": {
    "application/vnd.databricks.v1+cell": {
     "cellMetadata": {
      "byteLimit": 2048000,
      "rowLimit": 10000
     },
     "inputWidgets": {},
     "nuid": "2d950fe5-f7fa-440d-8444-ffdf4fdad565",
     "showTitle": false,
     "title": ""
    }
   },
   "outputs": [],
   "source": [
    "df2 = df1.select(\"name\",explode(\"scores\"))"
   ]
  },
  {
   "cell_type": "code",
   "execution_count": 0,
   "metadata": {
    "application/vnd.databricks.v1+cell": {
     "cellMetadata": {
      "byteLimit": 2048000,
      "rowLimit": 10000
     },
     "inputWidgets": {},
     "nuid": "a647a26e-0367-452d-a792-442e98dffa57",
     "showTitle": false,
     "title": ""
    }
   },
   "outputs": [
    {
     "output_type": "stream",
     "name": "stdout",
     "output_type": "stream",
     "text": [
      "+-----+--------------------------+\n|name |col                       |\n+-----+--------------------------+\n|Alice|{scores -> [90, 100, 120]}|\n+-----+--------------------------+\n\n"
     ]
    }
   ],
   "source": [
    "df2.show(truncate=False)"
   ]
  },
  {
   "cell_type": "code",
   "execution_count": 0,
   "metadata": {
    "application/vnd.databricks.v1+cell": {
     "cellMetadata": {
      "byteLimit": 2048000,
      "rowLimit": 10000
     },
     "inputWidgets": {},
     "nuid": "c6d7d6db-6f09-4109-986b-ed421833c802",
     "showTitle": false,
     "title": ""
    }
   },
   "outputs": [],
   "source": [
    "df3 = df2.select((element_at(col('col.scores'),2)).alias(\"2nd element\"))"
   ]
  },
  {
   "cell_type": "code",
   "execution_count": 0,
   "metadata": {
    "application/vnd.databricks.v1+cell": {
     "cellMetadata": {
      "byteLimit": 2048000,
      "rowLimit": 10000
     },
     "inputWidgets": {},
     "nuid": "0c425939-1a71-446c-812b-38905656fd73",
     "showTitle": false,
     "title": ""
    }
   },
   "outputs": [
    {
     "output_type": "stream",
     "name": "stdout",
     "output_type": "stream",
     "text": [
      "+-----------+\n|2nd element|\n+-----------+\n|100        |\n+-----------+\n\n"
     ]
    }
   ],
   "source": [
    "df3.show(truncate=False)"
   ]
  },
  {
   "cell_type": "code",
   "execution_count": 0,
   "metadata": {
    "application/vnd.databricks.v1+cell": {
     "cellMetadata": {
      "byteLimit": 2048000,
      "rowLimit": 10000
     },
     "inputWidgets": {},
     "nuid": "f4ba9250-340d-4be1-abf2-48d382cd3015",
     "showTitle": false,
     "title": ""
    }
   },
   "outputs": [],
   "source": [
    "df3 = df2.select(explode('scores'))"
   ]
  },
  {
   "cell_type": "code",
   "execution_count": 0,
   "metadata": {
    "application/vnd.databricks.v1+cell": {
     "cellMetadata": {
      "byteLimit": 2048000,
      "rowLimit": 10000
     },
     "inputWidgets": {},
     "nuid": "27829591-7089-4a77-b43a-c7b195bc31ee",
     "showTitle": false,
     "title": ""
    }
   },
   "outputs": [
    {
     "output_type": "stream",
     "name": "stdout",
     "output_type": "stream",
     "text": [
      "+---+\n|col|\n+---+\n| 90|\n|100|\n|120|\n+---+\n\n"
     ]
    }
   ],
   "source": [
    "df3.show()"
   ]
  },
  {
   "cell_type": "code",
   "execution_count": 0,
   "metadata": {
    "application/vnd.databricks.v1+cell": {
     "cellMetadata": {
      "byteLimit": 2048000,
      "rowLimit": 10000
     },
     "inputWidgets": {},
     "nuid": "49ca49db-43d7-458b-bf45-d0cd9be67921",
     "showTitle": false,
     "title": ""
    }
   },
   "outputs": [
    {
     "output_type": "stream",
     "name": "stdout",
     "output_type": "stream",
     "text": [
      "20\n"
     ]
    }
   ],
   "source": [
    "py_list=[10,20,30]\n",
    "\n",
    "print(py_list[1])\n",
    "\n"
   ]
  },
  {
   "cell_type": "markdown",
   "metadata": {
    "application/vnd.databricks.v1+cell": {
     "cellMetadata": {},
     "inputWidgets": {},
     "nuid": "ecd30c29-2845-41f1-ba81-019e2a61a457",
     "showTitle": false,
     "title": ""
    }
   },
   "source": [
    "#Split"
   ]
  },
  {
   "cell_type": "code",
   "execution_count": 0,
   "metadata": {
    "application/vnd.databricks.v1+cell": {
     "cellMetadata": {
      "byteLimit": 2048000,
      "rowLimit": 10000
     },
     "inputWidgets": {},
     "nuid": "081c3bf2-2f6c-4abb-8321-5e752fd9d43a",
     "showTitle": false,
     "title": ""
    }
   },
   "outputs": [
    {
     "output_type": "stream",
     "name": "stdout",
     "output_type": "stream",
     "text": [
      "+-------+------------------------------+\n|name   |subjects                      |\n+-------+------------------------------+\n|Alice  |Math,English,History          |\n|Bob    |Physics,Chemistry             |\n|Charlie|Biology                       |\n|David  |Math,Physics,Chemistry,History|\n+-------+------------------------------+\n\n"
     ]
    }
   ],
   "source": [
    "# Sample data with a string column\n",
    "data = [(\"Alice\", \"Math,English,History\"),\n",
    "        (\"Bob\", \"Physics,Chemistry\"),\n",
    "        (\"Charlie\", \"Biology\"),\n",
    "        (\"David\", \"Math,Physics,Chemistry,History\")]\n",
    "# Define the schema\n",
    "schema = [\"name\", \"subjects\"]\n",
    "\n",
    "df=spark.createDataFrame(data,schema)\n",
    "df.show(truncate=False)\n"
   ]
  },
  {
   "cell_type": "code",
   "execution_count": 0,
   "metadata": {
    "application/vnd.databricks.v1+cell": {
     "cellMetadata": {
      "byteLimit": 2048000,
      "rowLimit": 10000
     },
     "inputWidgets": {},
     "nuid": "351a4c79-f236-4fac-ab31-531dc8b2e300",
     "showTitle": false,
     "title": ""
    }
   },
   "outputs": [
    {
     "output_type": "stream",
     "name": "stdout",
     "output_type": "stream",
     "text": [
      "+-------+------------------------------+\n|name   |subjects                      |\n+-------+------------------------------+\n|Alice  |Math,English,History          |\n|Bob    |Physics,Chemistry             |\n|Charlie|Biology                       |\n|David  |Math,Physics,Chemistry,History|\n+-------+------------------------------+\n\n"
     ]
    }
   ],
   "source": [
    "df.show(truncate=False)"
   ]
  },
  {
   "cell_type": "code",
   "execution_count": 0,
   "metadata": {
    "application/vnd.databricks.v1+cell": {
     "cellMetadata": {
      "byteLimit": 2048000,
      "rowLimit": 10000
     },
     "inputWidgets": {},
     "nuid": "ece7a8d7-8780-4aa7-a6f8-023d17961675",
     "showTitle": false,
     "title": ""
    }
   },
   "outputs": [],
   "source": [
    "from pyspark.sql.functions import split"
   ]
  },
  {
   "cell_type": "code",
   "execution_count": 0,
   "metadata": {
    "application/vnd.databricks.v1+cell": {
     "cellMetadata": {
      "byteLimit": 2048000,
      "rowLimit": 10000
     },
     "inputWidgets": {},
     "nuid": "de817605-aaff-412e-8fd9-38f6614d7fc9",
     "showTitle": false,
     "title": ""
    }
   },
   "outputs": [
    {
     "output_type": "stream",
     "name": "stdout",
     "output_type": "stream",
     "text": [
      "+-------+-----------------------------------+\n|name   |split(subjects, ,, -1)             |\n+-------+-----------------------------------+\n|Alice  |[Math, English, History]           |\n|Bob    |[Physics, Chemistry]               |\n|Charlie|[Biology]                          |\n|David  |[Math, Physics, Chemistry, History]|\n+-------+-----------------------------------+\n\n"
     ]
    }
   ],
   "source": [
    "df2=df.select(\"name\",split(\"subjects\",\",\"))\n",
    "df2.show(truncate=False)"
   ]
  },
  {
   "cell_type": "code",
   "execution_count": 0,
   "metadata": {
    "application/vnd.databricks.v1+cell": {
     "cellMetadata": {
      "byteLimit": 2048000,
      "rowLimit": 10000
     },
     "inputWidgets": {},
     "nuid": "f86216f1-7011-4eac-8042-725b27f2b5ca",
     "showTitle": false,
     "title": ""
    }
   },
   "outputs": [],
   "source": [
    "df3=df2.select(\"name\",explode(\"split(subjects, ,, -1)\"))"
   ]
  },
  {
   "cell_type": "code",
   "execution_count": 0,
   "metadata": {
    "application/vnd.databricks.v1+cell": {
     "cellMetadata": {
      "byteLimit": 2048000,
      "rowLimit": 10000
     },
     "inputWidgets": {},
     "nuid": "a24e7851-fd0e-43f4-a4af-5f63a7dc8c02",
     "showTitle": false,
     "title": ""
    }
   },
   "outputs": [
    {
     "output_type": "stream",
     "name": "stdout",
     "output_type": "stream",
     "text": [
      "+-------+---------+\n|name   |col      |\n+-------+---------+\n|Alice  |Math     |\n|Alice  |English  |\n|Alice  |History  |\n|Bob    |Physics  |\n|Bob    |Chemistry|\n|Charlie|Biology  |\n|David  |Math     |\n|David  |Physics  |\n|David  |Chemistry|\n|David  |History  |\n+-------+---------+\n\n"
     ]
    }
   ],
   "source": [
    "df3.show(truncate=False)"
   ]
  },
  {
   "cell_type": "code",
   "execution_count": 0,
   "metadata": {
    "application/vnd.databricks.v1+cell": {
     "cellMetadata": {},
     "inputWidgets": {},
     "nuid": "ee5836d1-e698-4d53-bde3-553aff303566",
     "showTitle": false,
     "title": ""
    }
   },
   "outputs": [],
   "source": []
  }
 ],
 "metadata": {
  "application/vnd.databricks.v1+notebook": {
   "dashboards": [],
   "environmentMetadata": null,
   "language": "python",
   "notebookMetadata": {
    "pythonIndentUnit": 4
   },
   "notebookName": "4. Explode and Split",
   "widgets": {}
  }
 },
 "nbformat": 4,
 "nbformat_minor": 0
}
