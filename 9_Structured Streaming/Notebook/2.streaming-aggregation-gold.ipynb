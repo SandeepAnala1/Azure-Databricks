{
 "cells": [
  {
   "cell_type": "code",
   "execution_count": 0,
   "metadata": {
    "application/vnd.databricks.v1+cell": {
     "cellMetadata": {
      "byteLimit": 2048000,
      "rowLimit": 10000
     },
     "inputWidgets": {},
     "nuid": "de89d31e-c6d1-4aa1-8eee-16a1e193b9b1",
     "showTitle": false,
     "title": ""
    }
   },
   "outputs": [],
   "source": [
    "base_data_dir=\"/mnt/devmadeadlssa/landing\"\n",
    "check_point_dir=\"/mnt/devmadeadlssa/checkpoint\""
   ]
  },
  {
   "cell_type": "code",
   "execution_count": 0,
   "metadata": {
    "application/vnd.databricks.v1+cell": {
     "cellMetadata": {
      "byteLimit": 2048000,
      "rowLimit": 10000
     },
     "inputWidgets": {},
     "nuid": "3ddf6fcd-0352-466c-944f-c04fa5753380",
     "showTitle": false,
     "title": ""
    }
   },
   "outputs": [],
   "source": [
    "#"
   ]
  },
  {
   "cell_type": "code",
   "execution_count": 0,
   "metadata": {
    "application/vnd.databricks.v1+cell": {
     "cellMetadata": {
      "byteLimit": 2048000,
      "rowLimit": 10000
     },
     "inputWidgets": {},
     "nuid": "2595406f-e50a-4b1c-a498-10f7663f6a80",
     "showTitle": false,
     "title": ""
    }
   },
   "outputs": [],
   "source": [
    "def readBronze():\n",
    "    return spark.readStream.table(\"invoices_bz\")\n",
    "\n",
    "\n",
    "def getAggregates(invoices_df):\n",
    "    from pyspark.sql.functions import sum, expr\n",
    "\n",
    "    return invoices_df.groupBy(\"CustomerCardNo\").agg(\n",
    "        sum(\"TotalAmount\").alias(\"TotalAmount\"),\n",
    "        sum(expr(\"TotalAmount*0.02\")).alias(\"TotalPoints\"),\n",
    "    )\n",
    "\n",
    "\n",
    "def saveResults(results_df):\n",
    "    print(f\"\\nStarting Silver Stream...\", end=\"\")\n",
    "    return (\n",
    "        results_df.writeStream.queryName(\"gold-update\")\n",
    "        .option(\"checkpointLocation\", f\"{check_point_dir}/customer_rewards\")\n",
    "        .outputMode(\"complete\")\n",
    "        .toTable(\"customer_rewards\")\n",
    "    )\n",
    "    print(\"Done\")\n",
    "\n",
    "\n",
    "def process():\n",
    "    invoices_df = readBronze()\n",
    "    aggregate_df = getAggregates(invoices_df)\n",
    "    sQuery = saveResults(aggregate_df)\n",
    "    return sQuery"
   ]
  },
  {
   "cell_type": "code",
   "execution_count": 0,
   "metadata": {
    "application/vnd.databricks.v1+cell": {
     "cellMetadata": {
      "byteLimit": 2048000,
      "rowLimit": 10000
     },
     "inputWidgets": {},
     "nuid": "8741c0ec-ffb2-411c-83b6-ee4d6e45071b",
     "showTitle": false,
     "title": ""
    }
   },
   "outputs": [
    {
     "output_type": "stream",
     "name": "stdout",
     "output_type": "stream",
     "text": [
      "\nStarting Silver Stream..."
     ]
    }
   ],
   "source": [
    "Query=process()"
   ]
  },
  {
   "cell_type": "code",
   "execution_count": 0,
   "metadata": {
    "application/vnd.databricks.v1+cell": {
     "cellMetadata": {
      "byteLimit": 2048000,
      "implicitDf": true,
      "rowLimit": 10000
     },
     "inputWidgets": {},
     "nuid": "e50eecef-b8c6-4f4f-88fb-a33f9fd0677a",
     "showTitle": false,
     "title": ""
    }
   },
   "outputs": [
    {
     "output_type": "display_data",
     "data": {
      "text/html": [
       "<style scoped>\n",
       "  .table-result-container {\n",
       "    max-height: 300px;\n",
       "    overflow: auto;\n",
       "  }\n",
       "  table, th, td {\n",
       "    border: 1px solid black;\n",
       "    border-collapse: collapse;\n",
       "  }\n",
       "  th, td {\n",
       "    padding: 5px;\n",
       "  }\n",
       "  th {\n",
       "    text-align: left;\n",
       "  }\n",
       "</style><div class='table-result-container'><table class='table-result'><thead style='background-color: white'><tr><th>num_affected_rows</th></tr></thead><tbody><tr><td>65</td></tr></tbody></table></div>"
      ]
     },
     "metadata": {
      "application/vnd.databricks.v1+output": {
       "addedWidgets": {},
       "aggData": [],
       "aggError": "",
       "aggOverflow": false,
       "aggSchema": [],
       "aggSeriesLimitReached": false,
       "aggType": "",
       "arguments": {},
       "columnCustomDisplayInfos": {},
       "data": [
        [
         65
        ]
       ],
       "datasetInfos": [],
       "dbfsResultPath": null,
       "isJsonSchema": true,
       "metadata": {
        "dataframeName": "_sqldf",
        "executionCount": 6
       },
       "overflow": false,
       "plotOptions": {
        "customPlotOptions": {},
        "displayType": "table",
        "pivotAggregation": null,
        "pivotColumns": null,
        "xColumns": null,
        "yColumns": null
       },
       "removedWidgets": [],
       "schema": [
        {
         "metadata": "{}",
         "name": "num_affected_rows",
         "type": "\"long\""
        }
       ],
       "type": "table"
      }
     },
     "output_type": "display_data"
    }
   ],
   "source": [
    "%sql\n",
    "delete from customer_rewards8"
   ]
  },
  {
   "cell_type": "code",
   "execution_count": 0,
   "metadata": {
    "application/vnd.databricks.v1+cell": {
     "cellMetadata": {
      "byteLimit": 2048000,
      "implicitDf": true,
      "rowLimit": 10000
     },
     "inputWidgets": {},
     "nuid": "eaa12610-a675-4fe2-aa6d-99a6b5f81dc0",
     "showTitle": false,
     "title": ""
    }
   },
   "outputs": [
    {
     "output_type": "display_data",
     "data": {
      "text/html": [
       "<style scoped>\n",
       "  .table-result-container {\n",
       "    max-height: 300px;\n",
       "    overflow: auto;\n",
       "  }\n",
       "  table, th, td {\n",
       "    border: 1px solid black;\n",
       "    border-collapse: collapse;\n",
       "  }\n",
       "  th, td {\n",
       "    padding: 5px;\n",
       "  }\n",
       "  th {\n",
       "    text-align: left;\n",
       "  }\n",
       "</style><div class='table-result-container'><table class='table-result'><thead style='background-color: white'><tr><th>CustomerCardNo</th><th>TotalAmount</th><th>TotalPoints</th></tr></thead><tbody><tr><td>7543202868</td><td>47796.0</td><td>955.9200000000001</td></tr><tr><td>9316477281</td><td>47894.0</td><td>957.8800000000001</td></tr><tr><td>2502121621</td><td>30121.0</td><td>602.42</td></tr><tr><td>9509332022</td><td>38128.0</td><td>762.56</td></tr><tr><td>6244229107</td><td>23869.0</td><td>477.38</td></tr><tr><td>4552039054</td><td>68557.0</td><td>1371.14</td></tr><tr><td>4227803954</td><td>19190.0</td><td>383.8</td></tr><tr><td>5697125813</td><td>49046.0</td><td>980.92</td></tr><tr><td>8154556937</td><td>61875.0</td><td>1237.5000000000002</td></tr><tr><td>2389018842</td><td>45199.0</td><td>903.98</td></tr><tr><td>4369698403</td><td>35160.0</td><td>703.2</td></tr><tr><td>1191112820</td><td>31457.0</td><td>629.14</td></tr><tr><td>2599848717</td><td>33162.0</td><td>663.24</td></tr><tr><td>9740604930</td><td>67442.0</td><td>1348.8400000000001</td></tr><tr><td>6705218300</td><td>25698.0</td><td>513.96</td></tr><tr><td>4405006483</td><td>31011.0</td><td>620.22</td></tr><tr><td>5576072500</td><td>23994.0</td><td>479.88</td></tr><tr><td>7829975914</td><td>38799.0</td><td>775.98</td></tr><tr><td>2262471989</td><td>36859.0</td><td>737.18</td></tr><tr><td>3716602332</td><td>61743.0</td><td>1234.8599999999997</td></tr><tr><td>2325763742</td><td>30549.0</td><td>610.98</td></tr><tr><td>8189067868</td><td>22515.0</td><td>450.3</td></tr><tr><td>1360645962</td><td>39219.0</td><td>784.3800000000001</td></tr><tr><td>9728415172</td><td>21452.0</td><td>429.04</td></tr><tr><td>2762345282</td><td>14371.0</td><td>287.42</td></tr><tr><td>3996109634</td><td>26709.0</td><td>534.1800000000001</td></tr><tr><td>4692642935</td><td>14717.0</td><td>294.34000000000003</td></tr><tr><td>8109010950</td><td>19766.0</td><td>395.32</td></tr><tr><td>8111613552</td><td>41150.0</td><td>823.0</td></tr><tr><td>9327106277</td><td>55778.0</td><td>1115.5600000000002</td></tr><tr><td>4937932830</td><td>68227.0</td><td>1364.5399999999997</td></tr><tr><td>1053863739</td><td>25527.0</td><td>510.53999999999996</td></tr><tr><td>7892154732</td><td>77831.0</td><td>1556.6200000000003</td></tr><tr><td>1489226224</td><td>36065.0</td><td>721.3000000000001</td></tr><tr><td>9711257112</td><td>39105.0</td><td>782.0999999999999</td></tr><tr><td>6909538460</td><td>25221.0</td><td>504.4200000000001</td></tr><tr><td>7589671731</td><td>24065.0</td><td>481.3</td></tr><tr><td>3916555911</td><td>57505.0</td><td>1150.1</td></tr><tr><td>9724245321</td><td>9329.0</td><td>186.57999999999998</td></tr><tr><td>5305473526</td><td>29460.0</td><td>589.1999999999999</td></tr><tr><td>7475384243</td><td>22781.0</td><td>455.62</td></tr><tr><td>6048272250</td><td>41748.0</td><td>834.9599999999999</td></tr><tr><td>4226427254</td><td>45893.0</td><td>917.86</td></tr><tr><td>7587821520</td><td>27347.0</td><td>546.94</td></tr><tr><td>8071065242</td><td>38354.0</td><td>767.08</td></tr><tr><td>6296964163</td><td>51859.0</td><td>1037.18</td></tr><tr><td>5611417583</td><td>59465.0</td><td>1189.3</td></tr><tr><td>7051101351</td><td>69722.0</td><td>1394.4399999999998</td></tr><tr><td>2461788838</td><td>78762.0</td><td>1575.24</td></tr><tr><td>8714158103</td><td>61349.0</td><td>1226.9799999999998</td></tr><tr><td>7136581152</td><td>27506.0</td><td>550.12</td></tr><tr><td>1482417862</td><td>67954.0</td><td>1359.0800000000002</td></tr><tr><td>9223558893</td><td>46186.0</td><td>923.72</td></tr><tr><td>8790333340</td><td>45211.0</td><td>904.22</td></tr><tr><td>9282685191</td><td>32666.0</td><td>653.3199999999999</td></tr><tr><td>5483488802</td><td>21478.0</td><td>429.55999999999995</td></tr><tr><td>1211843745</td><td>56036.0</td><td>1120.72</td></tr><tr><td>6419885098</td><td>35164.0</td><td>703.28</td></tr><tr><td>8651346374</td><td>25410.0</td><td>508.20000000000005</td></tr><tr><td>6797767929</td><td>30570.0</td><td>611.4000000000001</td></tr><tr><td>5733357005</td><td>41489.0</td><td>829.7800000000001</td></tr><tr><td>4629185211</td><td>86085.0</td><td>1721.7000000000003</td></tr><tr><td>5724653917</td><td>33712.0</td><td>674.24</td></tr><tr><td>5947487902</td><td>43702.0</td><td>874.04</td></tr><tr><td>2220404140</td><td>11487.0</td><td>229.73999999999998</td></tr></tbody></table></div>"
      ]
     },
     "metadata": {
      "application/vnd.databricks.v1+output": {
       "addedWidgets": {},
       "aggData": [],
       "aggError": "",
       "aggOverflow": false,
       "aggSchema": [],
       "aggSeriesLimitReached": false,
       "aggType": "",
       "arguments": {},
       "columnCustomDisplayInfos": {},
       "data": [
        [
         "7543202868",
         47796.0,
         955.9200000000001
        ],
        [
         "9316477281",
         47894.0,
         957.8800000000001
        ],
        [
         "2502121621",
         30121.0,
         602.42
        ],
        [
         "9509332022",
         38128.0,
         762.56
        ],
        [
         "6244229107",
         23869.0,
         477.38
        ],
        [
         "4552039054",
         68557.0,
         1371.14
        ],
        [
         "4227803954",
         19190.0,
         383.8
        ],
        [
         "5697125813",
         49046.0,
         980.92
        ],
        [
         "8154556937",
         61875.0,
         1237.5000000000002
        ],
        [
         "2389018842",
         45199.0,
         903.98
        ],
        [
         "4369698403",
         35160.0,
         703.2
        ],
        [
         "1191112820",
         31457.0,
         629.14
        ],
        [
         "2599848717",
         33162.0,
         663.24
        ],
        [
         "9740604930",
         67442.0,
         1348.8400000000001
        ],
        [
         "6705218300",
         25698.0,
         513.96
        ],
        [
         "4405006483",
         31011.0,
         620.22
        ],
        [
         "5576072500",
         23994.0,
         479.88
        ],
        [
         "7829975914",
         38799.0,
         775.98
        ],
        [
         "2262471989",
         36859.0,
         737.18
        ],
        [
         "3716602332",
         61743.0,
         1234.8599999999997
        ],
        [
         "2325763742",
         30549.0,
         610.98
        ],
        [
         "8189067868",
         22515.0,
         450.3
        ],
        [
         "1360645962",
         39219.0,
         784.3800000000001
        ],
        [
         "9728415172",
         21452.0,
         429.04
        ],
        [
         "2762345282",
         14371.0,
         287.42
        ],
        [
         "3996109634",
         26709.0,
         534.1800000000001
        ],
        [
         "4692642935",
         14717.0,
         294.34000000000003
        ],
        [
         "8109010950",
         19766.0,
         395.32
        ],
        [
         "8111613552",
         41150.0,
         823.0
        ],
        [
         "9327106277",
         55778.0,
         1115.5600000000002
        ],
        [
         "4937932830",
         68227.0,
         1364.5399999999997
        ],
        [
         "1053863739",
         25527.0,
         510.53999999999996
        ],
        [
         "7892154732",
         77831.0,
         1556.6200000000003
        ],
        [
         "1489226224",
         36065.0,
         721.3000000000001
        ],
        [
         "9711257112",
         39105.0,
         782.0999999999999
        ],
        [
         "6909538460",
         25221.0,
         504.4200000000001
        ],
        [
         "7589671731",
         24065.0,
         481.3
        ],
        [
         "3916555911",
         57505.0,
         1150.1
        ],
        [
         "9724245321",
         9329.0,
         186.57999999999998
        ],
        [
         "5305473526",
         29460.0,
         589.1999999999999
        ],
        [
         "7475384243",
         22781.0,
         455.62
        ],
        [
         "6048272250",
         41748.0,
         834.9599999999999
        ],
        [
         "4226427254",
         45893.0,
         917.86
        ],
        [
         "7587821520",
         27347.0,
         546.94
        ],
        [
         "8071065242",
         38354.0,
         767.08
        ],
        [
         "6296964163",
         51859.0,
         1037.18
        ],
        [
         "5611417583",
         59465.0,
         1189.3
        ],
        [
         "7051101351",
         69722.0,
         1394.4399999999998
        ],
        [
         "2461788838",
         78762.0,
         1575.24
        ],
        [
         "8714158103",
         61349.0,
         1226.9799999999998
        ],
        [
         "7136581152",
         27506.0,
         550.12
        ],
        [
         "1482417862",
         67954.0,
         1359.0800000000002
        ],
        [
         "9223558893",
         46186.0,
         923.72
        ],
        [
         "8790333340",
         45211.0,
         904.22
        ],
        [
         "9282685191",
         32666.0,
         653.3199999999999
        ],
        [
         "5483488802",
         21478.0,
         429.55999999999995
        ],
        [
         "1211843745",
         56036.0,
         1120.72
        ],
        [
         "6419885098",
         35164.0,
         703.28
        ],
        [
         "8651346374",
         25410.0,
         508.20000000000005
        ],
        [
         "6797767929",
         30570.0,
         611.4000000000001
        ],
        [
         "5733357005",
         41489.0,
         829.7800000000001
        ],
        [
         "4629185211",
         86085.0,
         1721.7000000000003
        ],
        [
         "5724653917",
         33712.0,
         674.24
        ],
        [
         "5947487902",
         43702.0,
         874.04
        ],
        [
         "2220404140",
         11487.0,
         229.73999999999998
        ]
       ],
       "datasetInfos": [],
       "dbfsResultPath": null,
       "isJsonSchema": true,
       "metadata": {
        "dataframeName": "_sqldf",
        "executionCount": 5
       },
       "overflow": false,
       "plotOptions": {
        "customPlotOptions": {},
        "displayType": "table",
        "pivotAggregation": null,
        "pivotColumns": null,
        "xColumns": null,
        "yColumns": null
       },
       "removedWidgets": [],
       "schema": [
        {
         "metadata": "{}",
         "name": "CustomerCardNo",
         "type": "\"string\""
        },
        {
         "metadata": "{}",
         "name": "TotalAmount",
         "type": "\"double\""
        },
        {
         "metadata": "{}",
         "name": "TotalPoints",
         "type": "\"double\""
        }
       ],
       "type": "table"
      }
     },
     "output_type": "display_data"
    }
   ],
   "source": [
    "%sql\n",
    "select * from customer_rewards8"
   ]
  },
  {
   "cell_type": "code",
   "execution_count": 0,
   "metadata": {
    "application/vnd.databricks.v1+cell": {
     "cellMetadata": {
      "byteLimit": 2048000,
      "implicitDf": true,
      "rowLimit": 10000
     },
     "inputWidgets": {},
     "nuid": "ad40f493-f95a-4054-87aa-e9e2fb5e3d44",
     "showTitle": false,
     "title": ""
    }
   },
   "outputs": [
    {
     "output_type": "display_data",
     "data": {
      "text/html": [
       "<style scoped>\n",
       "  .table-result-container {\n",
       "    max-height: 300px;\n",
       "    overflow: auto;\n",
       "  }\n",
       "  table, th, td {\n",
       "    border: 1px solid black;\n",
       "    border-collapse: collapse;\n",
       "  }\n",
       "  th, td {\n",
       "    padding: 5px;\n",
       "  }\n",
       "  th {\n",
       "    text-align: left;\n",
       "  }\n",
       "</style><div class='table-result-container'><table class='table-result'><thead style='background-color: white'><tr><th>CustomerCardNo</th><th>TotalAmount</th><th>TotalPoints</th></tr></thead><tbody><tr><td>2262471989</td><td>57599.0</td><td>1151.98</td></tr><tr><td>3716602332</td><td>93951.0</td><td>1879.02</td></tr><tr><td>2325763742</td><td>41582.0</td><td>831.64</td></tr><tr><td>6733153948</td><td>31500.0</td><td>630.0</td></tr><tr><td>8189067868</td><td>23541.0</td><td>470.82</td></tr><tr><td>6797767929</td><td>58395.0</td><td>1167.9</td></tr><tr><td>7928716562</td><td>12576.0</td><td>251.52</td></tr><tr><td>2016894106</td><td>65005.0</td><td>1300.1</td></tr><tr><td>1360645962</td><td>61708.0</td><td>1234.16</td></tr><tr><td>9728415172</td><td>32494.0</td><td>649.88</td></tr><tr><td>8891304816</td><td>62429.0</td><td>1248.58</td></tr><tr><td>2762345282</td><td>22718.0</td><td>454.35999999999996</td></tr><tr><td>2968880358</td><td>50781.0</td><td>1015.6200000000001</td></tr><tr><td>3996109634</td><td>32049.0</td><td>640.98</td></tr><tr><td>4692642935</td><td>28385.0</td><td>567.6999999999999</td></tr><tr><td>3425633108</td><td>36753.0</td><td>735.06</td></tr><tr><td>8109010950</td><td>31761.0</td><td>635.22</td></tr><tr><td>5733357005</td><td>45874.0</td><td>917.4800000000001</td></tr><tr><td>8111613552</td><td>44398.0</td><td>887.9599999999999</td></tr><tr><td>9327106277</td><td>74487.0</td><td>1489.7399999999998</td></tr><tr><td>4629185211</td><td>94131.0</td><td>1882.6200000000003</td></tr><tr><td>4937932830</td><td>77113.0</td><td>1542.26</td></tr><tr><td>1053863739</td><td>47460.0</td><td>949.1999999999999</td></tr><tr><td>2989852024</td><td>33310.0</td><td>666.1999999999999</td></tr><tr><td>7892154732</td><td>86810.0</td><td>1736.2000000000003</td></tr><tr><td>1489226224</td><td>42761.0</td><td>855.2200000000001</td></tr><tr><td>9711257112</td><td>71495.0</td><td>1429.8999999999999</td></tr><tr><td>6909538460</td><td>35935.0</td><td>718.7</td></tr><tr><td>7589671731</td><td>50681.0</td><td>1013.6199999999999</td></tr><tr><td>9724245321</td><td>21283.0</td><td>425.66</td></tr><tr><td>7475384243</td><td>48894.0</td><td>977.88</td></tr><tr><td>1518460232</td><td>42988.0</td><td>859.76</td></tr><tr><td>5432615113</td><td>37488.0</td><td>749.76</td></tr><tr><td>7587821520</td><td>44470.0</td><td>889.4000000000001</td></tr><tr><td>8071065242</td><td>53073.0</td><td>1061.46</td></tr><tr><td>6296964163</td><td>57044.0</td><td>1140.8799999999999</td></tr><tr><td>7051101351</td><td>85134.0</td><td>1702.6799999999996</td></tr><tr><td>5301477438</td><td>52927.0</td><td>1058.54</td></tr><tr><td>9639928743</td><td>58412.0</td><td>1168.24</td></tr><tr><td>2461788838</td><td>83288.0</td><td>1665.76</td></tr><tr><td>8714158103</td><td>99254.0</td><td>1985.08</td></tr><tr><td>7136581152</td><td>35141.0</td><td>702.82</td></tr><tr><td>1482417862</td><td>73171.0</td><td>1463.4199999999998</td></tr><tr><td>9223558893</td><td>56103.0</td><td>1122.0600000000002</td></tr><tr><td>5582740626</td><td>23073.0</td><td>461.46000000000004</td></tr><tr><td>5947487902</td><td>54526.0</td><td>1090.52</td></tr><tr><td>2220404140</td><td>21964.0</td><td>439.28</td></tr><tr><td>8790333340</td><td>53885.0</td><td>1077.7</td></tr><tr><td>9282685191</td><td>50550.0</td><td>1011.0</td></tr><tr><td>5483488802</td><td>27430.0</td><td>548.6</td></tr><tr><td>6218924818</td><td>24896.0</td><td>497.9200000000001</td></tr><tr><td>1211843745</td><td>58409.0</td><td>1168.18</td></tr><tr><td>7115250228</td><td>24862.0</td><td>497.24000000000007</td></tr><tr><td>7691699125</td><td>61122.0</td><td>1222.4399999999998</td></tr><tr><td>8651346374</td><td>35452.0</td><td>709.0400000000001</td></tr><tr><td>5576072500</td><td>54432.0</td><td>1088.64</td></tr><tr><td>7829975914</td><td>52975.0</td><td>1059.5</td></tr><tr><td>4369698403</td><td>51267.0</td><td>1025.3400000000001</td></tr><tr><td>1191112820</td><td>40203.0</td><td>804.06</td></tr><tr><td>2024774071</td><td>44377.0</td><td>887.54</td></tr><tr><td>3916555911</td><td>79184.0</td><td>1583.6799999999998</td></tr><tr><td>1682244797</td><td>54302.0</td><td>1086.04</td></tr><tr><td>6048272250</td><td>50651.0</td><td>1013.02</td></tr><tr><td>8110266676</td><td>57473.0</td><td>1149.4600000000003</td></tr><tr><td>5611417583</td><td>77426.0</td><td>1548.52</td></tr><tr><td>6705218300</td><td>35272.0</td><td>705.44</td></tr><tr><td>4405006483</td><td>53519.0</td><td>1070.3799999999999</td></tr><tr><td>7908234230</td><td>37359.0</td><td>747.18</td></tr><tr><td>5196911608</td><td>17510.0</td><td>350.20000000000005</td></tr><tr><td>4227803954</td><td>38134.0</td><td>762.6800000000001</td></tr><tr><td>5697125813</td><td>60647.0</td><td>1212.94</td></tr><tr><td>8154556937</td><td>64504.0</td><td>1290.0800000000002</td></tr><tr><td>2389018842</td><td>64419.0</td><td>1288.3799999999999</td></tr><tr><td>5378825053</td><td>86314.0</td><td>1726.2799999999997</td></tr><tr><td>4680751410</td><td>119858.0</td><td>2397.1600000000003</td></tr><tr><td>2599848717</td><td>54935.0</td><td>1098.7</td></tr><tr><td>9740604930</td><td>67442.0</td><td>1348.8400000000001</td></tr><tr><td>4226427254</td><td>68949.0</td><td>1378.98</td></tr><tr><td>3006055636</td><td>59310.0</td><td>1186.2</td></tr><tr><td>5525406429</td><td>40679.0</td><td>813.5799999999999</td></tr><tr><td>5724653917</td><td>48316.0</td><td>966.3199999999999</td></tr><tr><td>3027514652</td><td>59978.0</td><td>1199.56</td></tr><tr><td>4148565252</td><td>63465.0</td><td>1269.3000000000002</td></tr><tr><td>8490473378</td><td>53987.0</td><td>1079.74</td></tr><tr><td>7061658033</td><td>35346.0</td><td>706.9200000000001</td></tr><tr><td>9741556539</td><td>13601.0</td><td>272.02</td></tr><tr><td>6419885098</td><td>47768.0</td><td>955.3599999999999</td></tr><tr><td>7543202868</td><td>47796.0</td><td>955.9200000000001</td></tr><tr><td>9316477281</td><td>58402.0</td><td>1168.0400000000002</td></tr><tr><td>2502121621</td><td>46937.0</td><td>938.74</td></tr><tr><td>8582181693</td><td>42134.0</td><td>842.6800000000001</td></tr><tr><td>3453134392</td><td>14163.0</td><td>283.26</td></tr><tr><td>2954913332</td><td>49797.0</td><td>995.94</td></tr><tr><td>1422009832</td><td>69796.0</td><td>1395.9199999999998</td></tr><tr><td>5305473526</td><td>46380.0</td><td>927.5999999999998</td></tr><tr><td>2602353115</td><td>51225.0</td><td>1024.5</td></tr><tr><td>8670468851</td><td>44427.0</td><td>888.54</td></tr><tr><td>9509332022</td><td>55838.0</td><td>1116.7599999999998</td></tr><tr><td>6244229107</td><td>45499.0</td><td>909.98</td></tr><tr><td>4552039054</td><td>83415.0</td><td>1668.3000000000002</td></tr></tbody></table></div>"
      ]
     },
     "metadata": {
      "application/vnd.databricks.v1+output": {
       "addedWidgets": {},
       "aggData": [],
       "aggError": "",
       "aggOverflow": false,
       "aggSchema": [],
       "aggSeriesLimitReached": false,
       "aggType": "",
       "arguments": {},
       "columnCustomDisplayInfos": {},
       "data": [
        [
         "2262471989",
         57599.0,
         1151.98
        ],
        [
         "3716602332",
         93951.0,
         1879.02
        ],
        [
         "2325763742",
         41582.0,
         831.64
        ],
        [
         "6733153948",
         31500.0,
         630.0
        ],
        [
         "8189067868",
         23541.0,
         470.82
        ],
        [
         "6797767929",
         58395.0,
         1167.9
        ],
        [
         "7928716562",
         12576.0,
         251.52
        ],
        [
         "2016894106",
         65005.0,
         1300.1
        ],
        [
         "1360645962",
         61708.0,
         1234.16
        ],
        [
         "9728415172",
         32494.0,
         649.88
        ],
        [
         "8891304816",
         62429.0,
         1248.58
        ],
        [
         "2762345282",
         22718.0,
         454.35999999999996
        ],
        [
         "2968880358",
         50781.0,
         1015.6200000000001
        ],
        [
         "3996109634",
         32049.0,
         640.98
        ],
        [
         "4692642935",
         28385.0,
         567.6999999999999
        ],
        [
         "3425633108",
         36753.0,
         735.06
        ],
        [
         "8109010950",
         31761.0,
         635.22
        ],
        [
         "5733357005",
         45874.0,
         917.4800000000001
        ],
        [
         "8111613552",
         44398.0,
         887.9599999999999
        ],
        [
         "9327106277",
         74487.0,
         1489.7399999999998
        ],
        [
         "4629185211",
         94131.0,
         1882.6200000000003
        ],
        [
         "4937932830",
         77113.0,
         1542.26
        ],
        [
         "1053863739",
         47460.0,
         949.1999999999999
        ],
        [
         "2989852024",
         33310.0,
         666.1999999999999
        ],
        [
         "7892154732",
         86810.0,
         1736.2000000000003
        ],
        [
         "1489226224",
         42761.0,
         855.2200000000001
        ],
        [
         "9711257112",
         71495.0,
         1429.8999999999999
        ],
        [
         "6909538460",
         35935.0,
         718.7
        ],
        [
         "7589671731",
         50681.0,
         1013.6199999999999
        ],
        [
         "9724245321",
         21283.0,
         425.66
        ],
        [
         "7475384243",
         48894.0,
         977.88
        ],
        [
         "1518460232",
         42988.0,
         859.76
        ],
        [
         "5432615113",
         37488.0,
         749.76
        ],
        [
         "7587821520",
         44470.0,
         889.4000000000001
        ],
        [
         "8071065242",
         53073.0,
         1061.46
        ],
        [
         "6296964163",
         57044.0,
         1140.8799999999999
        ],
        [
         "7051101351",
         85134.0,
         1702.6799999999996
        ],
        [
         "5301477438",
         52927.0,
         1058.54
        ],
        [
         "9639928743",
         58412.0,
         1168.24
        ],
        [
         "2461788838",
         83288.0,
         1665.76
        ],
        [
         "8714158103",
         99254.0,
         1985.08
        ],
        [
         "7136581152",
         35141.0,
         702.82
        ],
        [
         "1482417862",
         73171.0,
         1463.4199999999998
        ],
        [
         "9223558893",
         56103.0,
         1122.0600000000002
        ],
        [
         "5582740626",
         23073.0,
         461.46000000000004
        ],
        [
         "5947487902",
         54526.0,
         1090.52
        ],
        [
         "2220404140",
         21964.0,
         439.28
        ],
        [
         "8790333340",
         53885.0,
         1077.7
        ],
        [
         "9282685191",
         50550.0,
         1011.0
        ],
        [
         "5483488802",
         27430.0,
         548.6
        ],
        [
         "6218924818",
         24896.0,
         497.9200000000001
        ],
        [
         "1211843745",
         58409.0,
         1168.18
        ],
        [
         "7115250228",
         24862.0,
         497.24000000000007
        ],
        [
         "7691699125",
         61122.0,
         1222.4399999999998
        ],
        [
         "8651346374",
         35452.0,
         709.0400000000001
        ],
        [
         "5576072500",
         54432.0,
         1088.64
        ],
        [
         "7829975914",
         52975.0,
         1059.5
        ],
        [
         "4369698403",
         51267.0,
         1025.3400000000001
        ],
        [
         "1191112820",
         40203.0,
         804.06
        ],
        [
         "2024774071",
         44377.0,
         887.54
        ],
        [
         "3916555911",
         79184.0,
         1583.6799999999998
        ],
        [
         "1682244797",
         54302.0,
         1086.04
        ],
        [
         "6048272250",
         50651.0,
         1013.02
        ],
        [
         "8110266676",
         57473.0,
         1149.4600000000003
        ],
        [
         "5611417583",
         77426.0,
         1548.52
        ],
        [
         "6705218300",
         35272.0,
         705.44
        ],
        [
         "4405006483",
         53519.0,
         1070.3799999999999
        ],
        [
         "7908234230",
         37359.0,
         747.18
        ],
        [
         "5196911608",
         17510.0,
         350.20000000000005
        ],
        [
         "4227803954",
         38134.0,
         762.6800000000001
        ],
        [
         "5697125813",
         60647.0,
         1212.94
        ],
        [
         "8154556937",
         64504.0,
         1290.0800000000002
        ],
        [
         "2389018842",
         64419.0,
         1288.3799999999999
        ],
        [
         "5378825053",
         86314.0,
         1726.2799999999997
        ],
        [
         "4680751410",
         119858.0,
         2397.1600000000003
        ],
        [
         "2599848717",
         54935.0,
         1098.7
        ],
        [
         "9740604930",
         67442.0,
         1348.8400000000001
        ],
        [
         "4226427254",
         68949.0,
         1378.98
        ],
        [
         "3006055636",
         59310.0,
         1186.2
        ],
        [
         "5525406429",
         40679.0,
         813.5799999999999
        ],
        [
         "5724653917",
         48316.0,
         966.3199999999999
        ],
        [
         "3027514652",
         59978.0,
         1199.56
        ],
        [
         "4148565252",
         63465.0,
         1269.3000000000002
        ],
        [
         "8490473378",
         53987.0,
         1079.74
        ],
        [
         "7061658033",
         35346.0,
         706.9200000000001
        ],
        [
         "9741556539",
         13601.0,
         272.02
        ],
        [
         "6419885098",
         47768.0,
         955.3599999999999
        ],
        [
         "7543202868",
         47796.0,
         955.9200000000001
        ],
        [
         "9316477281",
         58402.0,
         1168.0400000000002
        ],
        [
         "2502121621",
         46937.0,
         938.74
        ],
        [
         "8582181693",
         42134.0,
         842.6800000000001
        ],
        [
         "3453134392",
         14163.0,
         283.26
        ],
        [
         "2954913332",
         49797.0,
         995.94
        ],
        [
         "1422009832",
         69796.0,
         1395.9199999999998
        ],
        [
         "5305473526",
         46380.0,
         927.5999999999998
        ],
        [
         "2602353115",
         51225.0,
         1024.5
        ],
        [
         "8670468851",
         44427.0,
         888.54
        ],
        [
         "9509332022",
         55838.0,
         1116.7599999999998
        ],
        [
         "6244229107",
         45499.0,
         909.98
        ],
        [
         "4552039054",
         83415.0,
         1668.3000000000002
        ]
       ],
       "datasetInfos": [],
       "dbfsResultPath": null,
       "isJsonSchema": true,
       "metadata": {
        "dataframeName": "_sqldf",
        "executionCount": 2
       },
       "overflow": false,
       "plotOptions": {
        "customPlotOptions": {},
        "displayType": "table",
        "pivotAggregation": null,
        "pivotColumns": null,
        "xColumns": null,
        "yColumns": null
       },
       "removedWidgets": [],
       "schema": [
        {
         "metadata": "{}",
         "name": "CustomerCardNo",
         "type": "\"string\""
        },
        {
         "metadata": "{}",
         "name": "TotalAmount",
         "type": "\"double\""
        },
        {
         "metadata": "{}",
         "name": "TotalPoints",
         "type": "\"double\""
        }
       ],
       "type": "table"
      }
     },
     "output_type": "display_data"
    }
   ],
   "source": [
    "%sql\n",
    "select * from invoice_db.customer_rewards201"
   ]
  },
  {
   "cell_type": "code",
   "execution_count": 0,
   "metadata": {
    "application/vnd.databricks.v1+cell": {
     "cellMetadata": {
      "byteLimit": 2048000,
      "rowLimit": 10000
     },
     "inputWidgets": {},
     "nuid": "bb7a4db3-0ce2-40f5-b0bd-c358d8ed0cf8",
     "showTitle": false,
     "title": ""
    }
   },
   "outputs": [],
   "source": [
    "df_invoice_stream=spark.readStream.table(\"invoices_bz\")"
   ]
  },
  {
   "cell_type": "code",
   "execution_count": 0,
   "metadata": {
    "application/vnd.databricks.v1+cell": {
     "cellMetadata": {
      "byteLimit": 2048000,
      "rowLimit": 10000
     },
     "inputWidgets": {},
     "nuid": "c44ab3fa-8a33-4611-82b5-c06b359dfe37",
     "showTitle": false,
     "title": ""
    }
   },
   "outputs": [],
   "source": [
    "from pyspark.sql.functions import *"
   ]
  },
  {
   "cell_type": "code",
   "execution_count": 0,
   "metadata": {
    "application/vnd.databricks.v1+cell": {
     "cellMetadata": {
      "byteLimit": 2048000,
      "rowLimit": 10000
     },
     "inputWidgets": {},
     "nuid": "f40457eb-045a-427b-8b70-c41a6360d0f3",
     "showTitle": false,
     "title": ""
    }
   },
   "outputs": [],
   "source": [
    "df_agg_stream=df_invoice_stream.groupBy(\"CustomerCardNo\").agg(\n",
    "        sum(\"TotalAmount\").alias(\"TotalAmount\"),\n",
    "        sum(expr(\"TotalAmount*0.02\")).alias(\"TotalPoints\"))"
   ]
  },
  {
   "cell_type": "code",
   "execution_count": 0,
   "metadata": {
    "application/vnd.databricks.v1+cell": {
     "cellMetadata": {
      "byteLimit": 2048000,
      "rowLimit": 10000
     },
     "inputWidgets": {},
     "nuid": "2d1ff254-6f15-4f57-8e7c-58ba2f793308",
     "showTitle": false,
     "title": ""
    }
   },
   "outputs": [
    {
     "output_type": "execute_result",
     "data": {
      "text/plain": [
       "<pyspark.sql.streaming.query.StreamingQuery at 0x7f771420e3b0>"
      ]
     },
     "execution_count": 9,
     "metadata": {},
     "output_type": "execute_result"
    }
   ],
   "source": [
    "df_agg_stream.writeStream.outputMode(\"complete\").option(\"checkpointLocation\", f\"{check_point_dir}/customer_rewards\").toTable('customer_rewards')"
   ]
  }
 ],
 "metadata": {
  "application/vnd.databricks.v1+notebook": {
   "dashboards": [],
   "environmentMetadata": null,
   "language": "python",
   "notebookMetadata": {
    "mostRecentlyExecutedCommandWithImplicitDF": {
     "commandId": 2334675784147032,
     "dataframes": [
      "_sqldf"
     ]
    },
    "pythonIndentUnit": 4
   },
   "notebookName": "2.streaming-aggregation-gold",
   "widgets": {}
  }
 },
 "nbformat": 4,
 "nbformat_minor": 0
}
